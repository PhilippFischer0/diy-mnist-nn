{
 "cells": [
  {
   "cell_type": "markdown",
   "metadata": {},
   "source": [
    "# Imports"
   ]
  },
  {
   "cell_type": "code",
   "execution_count": null,
   "metadata": {},
   "outputs": [],
   "source": [
    "import numpy as np\n",
    "import plotly.express as px\n",
    "import pandas as pd\n",
    "from time import process_time"
   ]
  },
  {
   "cell_type": "markdown",
   "metadata": {},
   "source": [
    "# Numpy Benchmark\n",
    "Benchmark der Zeiten, die Numpy benötigt, um quadratische Arrays der Größen 1 bis \"size\" zu verrechnen"
   ]
  },
  {
   "cell_type": "code",
   "execution_count": null,
   "metadata": {},
   "outputs": [],
   "source": [
    "def bench_numpy(size: int, iterations: int) -> tuple[np.ndarray, np.ndarray]:\n",
    "    \"\"\"\n",
    "    Berechnet die Zeiten die Numpy braucht um quadratische Arrays von den Größen 1 bis size zu multiplizieren und gibt deren Mittelwert über die iterations und deren Standardabweichung zurück.\n",
    "\n",
    "    :params int size: Größe des Arrays bis zu welchem Zeit berechnet werden soll\n",
    "    :params int iterations: Iterationen über die gemittelt werden soll\n",
    "    :returns: Tupel von zwei Listen (Mittelwerte, Standardabweichung)\n",
    "    \"\"\"\n",
    "    means = []\n",
    "    deviations = []\n",
    "    for i in range(size):\n",
    "        ts = []\n",
    "        for _ in range(iterations):\n",
    "            x = np.random.randn(i + 1, i + 1)\n",
    "            y = np.random.randn(i + 1, i + 1)\n",
    "\n",
    "            start_time = process_time()\n",
    "            _ = x @ y\n",
    "            end_time = process_time()\n",
    "\n",
    "            time = end_time - start_time\n",
    "            ts.append(time)\n",
    "\n",
    "        means.append(np.mean(ts))\n",
    "        deviations.append(np.std(ts))\n",
    "\n",
    "    return (means, deviations)"
   ]
  },
  {
   "cell_type": "code",
   "execution_count": null,
   "metadata": {},
   "outputs": [],
   "source": [
    "means, deviations = bench_numpy(500, 300)\n",
    "\n",
    "df = pd.DataFrame(\n",
    "    {\n",
    "        \"size\": np.arange(len(means)) + 1,\n",
    "        \"time\": means,\n",
    "        \"deviation\": deviations,\n",
    "    }\n",
    ")"
   ]
  },
  {
   "cell_type": "code",
   "execution_count": null,
   "metadata": {},
   "outputs": [],
   "source": [
    "px.scatter(df, x=\"size\", y=\"time\", error_y=\"deviation\", log_y=True)"
   ]
  }
 ],
 "metadata": {
  "kernelspec": {
   "display_name": "diy-mnist-nn-ZXZBkNkJ-py3.10",
   "language": "python",
   "name": "python3"
  },
  "language_info": {
   "codemirror_mode": {
    "name": "ipython",
    "version": 3
   },
   "file_extension": ".py",
   "mimetype": "text/x-python",
   "name": "python",
   "nbconvert_exporter": "python",
   "pygments_lexer": "ipython3",
   "version": "3.10.12"
  }
 },
 "nbformat": 4,
 "nbformat_minor": 2
}
