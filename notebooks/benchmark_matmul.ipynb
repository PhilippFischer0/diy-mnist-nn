{
 "cells": [
  {
   "cell_type": "markdown",
   "metadata": {},
   "source": [
    "# Imports"
   ]
  },
  {
   "cell_type": "code",
   "execution_count": null,
   "metadata": {},
   "outputs": [],
   "source": [
    "import numpy as np\n",
    "import timeit\n",
    "import plotly.graph_objects as go\n",
    "import plotly.express as px\n",
    "import pandas as pd"
   ]
  },
  {
   "cell_type": "markdown",
   "metadata": {},
   "source": [
    "# Calculate the times"
   ]
  },
  {
   "cell_type": "code",
   "execution_count": null,
   "metadata": {},
   "outputs": [],
   "source": [
    "def matmul(size: int) -> float:\n",
    "    setup_code = f\"\"\"import numpy as np\n",
    "size = {size}\n",
    "x = np.random.randn({size}, {size})\n",
    "y = np.random.randn({size}, {size})\n",
    "res = np.zeros(({size}, {size}))\"\"\"\n",
    "\n",
    "    loop = \"\"\"for i in range(size):\n",
    "        for j in range(size):\n",
    "            for k in range(size):\n",
    "                res[i][j] += x[i][k] * y[k][j]\"\"\"\n",
    "    loop_time = timeit.timeit(loop, setup=setup_code, number=1)\n",
    "\n",
    "    numpy = \"\"\"res2 = x @ y\"\"\"\n",
    "    numpy_time = timeit.timeit(numpy, setup=setup_code, number=1)\n",
    "\n",
    "    return size, loop_time, numpy_time"
   ]
  },
  {
   "cell_type": "markdown",
   "metadata": {},
   "source": [
    "# Plot Time Differences"
   ]
  },
  {
   "cell_type": "code",
   "execution_count": null,
   "metadata": {},
   "outputs": [],
   "source": [
    "reps = 10\n",
    "num = 250\n",
    "l_mean = np.zeros(num)\n",
    "n_mean = np.zeros(num)\n",
    "l_std = np.zeros(num)\n",
    "n_std = np.zeros(num)\n",
    "l_times = np.ndarray((reps, num))\n",
    "n_times = np.ndarray((reps, num))\n",
    "\n",
    "for i in range(reps):\n",
    "    sizes = []\n",
    "    # Mttelwert & Standardabweichung über 10 Iterationen bilden und plotten\n",
    "    for siz in range(num):\n",
    "        sz, lt, nt = matmul(size=siz)\n",
    "        sizes.append(sz)\n",
    "        l_times[i, siz] = lt\n",
    "        n_times[i, siz] = nt\n",
    "\n",
    "        l_mean[siz] += l_times[i, siz]\n",
    "        n_mean[siz] += n_times[i, siz]\n",
    "\n",
    "l_mean = l_mean / reps\n",
    "n_mean = n_mean / reps\n",
    "for entry in range(num):\n",
    "    l_std[entry] = np.std(l_times[:, entry])\n",
    "    n_std[entry] = np.std(n_times[:, entry])"
   ]
  },
  {
   "cell_type": "code",
   "execution_count": null,
   "metadata": {},
   "outputs": [],
   "source": [
    "fig = go.Figure(\n",
    "    data=[\n",
    "        go.Scatter(\n",
    "            x=sizes,\n",
    "            y=l_mean,\n",
    "            mode=\"lines+markers\",\n",
    "            name=\"Loop Times\",\n",
    "            error_y=dict(type=\"data\", array=l_std, visible=True),\n",
    "        ),\n",
    "        go.Scatter(\n",
    "            x=sizes,\n",
    "            y=n_mean,\n",
    "            mode=\"lines+markers\",\n",
    "            name=\"Numpy Times\",\n",
    "            error_y=dict(type=\"data\", array=n_std, visible=True),\n",
    "        ),\n",
    "    ]\n",
    ")\n",
    "\n",
    "fig.update_layout(width=1500, height=1000, yaxis_type=\"log\")\n",
    "\n",
    "fig.show()"
   ]
  },
  {
   "cell_type": "code",
   "execution_count": null,
   "metadata": {},
   "outputs": [],
   "source": [
    "df = pd.DataFrame(\n",
    "    {\n",
    "        \"size\": sizes,\n",
    "        \"loop\": l_mean,\n",
    "        \"numpy\": n_mean,\n",
    "    }\n",
    ")\n",
    "\n",
    "df = df.melt(id_vars=\"size\", value_vars=[\"loop\", \"numpy\"])\n",
    "\n",
    "df[\"e\"] = np.append(l_std, n_std)\n",
    "\n",
    "\n",
    "px.scatter(df, x=\"size\", y=\"value\", color=\"variable\", log_y=True, error_y=\"e\")\n",
    "\n",
    "# Ergebnis df als json abspeichern (plot?)"
   ]
  },
  {
   "cell_type": "code",
   "execution_count": null,
   "metadata": {},
   "outputs": [],
   "source": [
    "df"
   ]
  }
 ],
 "metadata": {
  "kernelspec": {
   "display_name": "diy-mnist-nn-ZXZBkNkJ-py3.10",
   "language": "python",
   "name": "python3"
  },
  "language_info": {
   "codemirror_mode": {
    "name": "ipython",
    "version": 3
   },
   "file_extension": ".py",
   "mimetype": "text/x-python",
   "name": "python",
   "nbconvert_exporter": "python",
   "pygments_lexer": "ipython3",
   "version": "3.10.12"
  }
 },
 "nbformat": 4,
 "nbformat_minor": 2
}
