{
 "cells": [
  {
   "cell_type": "code",
   "execution_count": null,
   "metadata": {},
   "outputs": [],
   "source": [
    "import numpy as np\n",
    "import time\n",
    "import matplotlib.pyplot as plt"
   ]
  },
  {
   "cell_type": "code",
   "execution_count": null,
   "metadata": {},
   "outputs": [],
   "source": [
    "# Benchmark quadratische Matrizenmultiplikationen (np.randn)  -> einmal mit for-loop (Spalte * Zeile)\n",
    "#                                                             -> dann mit @ (numpy)\n",
    "# -> Variable Größe als Input\n",
    "# -> Plotten (Vergleich)"
   ]
  },
  {
   "cell_type": "code",
   "execution_count": null,
   "metadata": {},
   "outputs": [],
   "source": [
    "def matmul(size: int) -> float:\n",
    "    x = np.random.randn(size, size)\n",
    "    y = np.random.randn(size, size)\n",
    "    res = np.zeros((size, size))\n",
    "\n",
    "    loop_start_time = time.time()\n",
    "    for i in range(size):\n",
    "        for j in range(size):\n",
    "            for k in range(size):\n",
    "                res[i][j] += x[i][k] * y[k][j]\n",
    "    loop_end_time = time.time()\n",
    "    loop_time = loop_end_time - loop_start_time\n",
    "\n",
    "    numpy_start_time = time.time()\n",
    "    res2 = x @ y\n",
    "    numpy_end_time = time.time()\n",
    "    numpy_time = numpy_end_time - numpy_start_time\n",
    "\n",
    "    return size, loop_time, numpy_time"
   ]
  },
  {
   "cell_type": "markdown",
   "metadata": {},
   "source": [
    "Plot Time Differences"
   ]
  },
  {
   "cell_type": "code",
   "execution_count": null,
   "metadata": {},
   "outputs": [],
   "source": [
    "sz, lt, nt = matmul(1000)\n",
    "\n",
    "plt.bar(sz, lt)\n",
    "plt.bar(sz, nt)\n",
    "plt.xticks(sz)\n",
    "\n",
    "plt.show()"
   ]
  },
  {
   "cell_type": "code",
   "execution_count": null,
   "metadata": {},
   "outputs": [],
   "source": [
    "sizes = []\n",
    "l_times = []\n",
    "n_times = []\n",
    "\n",
    "for i in range(100):\n",
    "    sz, lt, nt = matmul(i)\n",
    "    sizes.append(sz)\n",
    "    l_times.append(lt)\n",
    "    n_times.append(nt)\n",
    "\n",
    "plt.bar(sizes, l_times)\n",
    "plt.bar(sizes, n_times)\n",
    "\n",
    "plt.legend([\"Loop Times\", \"Numpy Times\"])\n",
    "plt.xticks(sizes)\n",
    "\n",
    "plt.show()"
   ]
  }
 ],
 "metadata": {
  "kernelspec": {
   "display_name": "diy-mnist-nn-ZXZBkNkJ-py3.10",
   "language": "python",
   "name": "python3"
  },
  "language_info": {
   "codemirror_mode": {
    "name": "ipython",
    "version": 3
   },
   "file_extension": ".py",
   "mimetype": "text/x-python",
   "name": "python",
   "nbconvert_exporter": "python",
   "pygments_lexer": "ipython3",
   "version": "3.10.12"
  }
 },
 "nbformat": 4,
 "nbformat_minor": 2
}
