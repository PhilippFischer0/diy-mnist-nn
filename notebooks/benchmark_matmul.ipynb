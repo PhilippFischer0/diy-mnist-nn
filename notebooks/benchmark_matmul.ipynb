{
 "cells": [
  {
   "cell_type": "markdown",
   "metadata": {},
   "source": [
    "# Imports"
   ]
  },
  {
   "cell_type": "code",
   "execution_count": null,
   "metadata": {},
   "outputs": [],
   "source": [
    "import numpy as np\n",
    "import timeit\n",
    "import plotly.express as px\n",
    "import pandas as pd\n",
    "from time import process_time"
   ]
  },
  {
   "cell_type": "markdown",
   "metadata": {},
   "source": [
    "# Calculate the times"
   ]
  },
  {
   "cell_type": "code",
   "execution_count": null,
   "metadata": {},
   "outputs": [],
   "source": [
    "def matmul(size: int) -> float:\n",
    "    setup_code = f\"\"\"import numpy as np\n",
    "size = {size}\n",
    "x = np.random.randn({size}, {size})\n",
    "y = np.random.randn({size}, {size})\n",
    "res = np.zeros(({size}, {size}))\"\"\"\n",
    "\n",
    "    loop = \"\"\"for i in range(size):\n",
    "        for j in range(size):\n",
    "            for k in range(size):\n",
    "                res[i][j] += x[i][k] * y[k][j]\"\"\"\n",
    "    loop_time = timeit.timeit(loop, setup=setup_code, number=1)\n",
    "\n",
    "    numpy = \"\"\"res2 = x @ y\"\"\"\n",
    "    numpy_time = timeit.timeit(numpy, setup=setup_code, number=1)\n",
    "\n",
    "    return size, loop_time, numpy_time"
   ]
  },
  {
   "cell_type": "code",
   "execution_count": null,
   "metadata": {},
   "outputs": [],
   "source": [
    "reps = 10\n",
    "num = 10\n",
    "l_mean = np.zeros(num)\n",
    "n_mean = np.zeros(num)\n",
    "l_std = np.zeros(num)\n",
    "n_std = np.zeros(num)\n",
    "l_times = np.ndarray((reps, num))\n",
    "n_times = np.ndarray((reps, num))\n",
    "\n",
    "for i in range(reps):\n",
    "    sizes = []\n",
    "\n",
    "    for siz in range(num):\n",
    "        sz, lt, nt = matmul(size=siz)\n",
    "        sizes.append(sz)\n",
    "        l_times[i, siz] = lt\n",
    "        n_times[i, siz] = nt\n",
    "\n",
    "        l_mean[siz] += l_times[i, siz]\n",
    "        n_mean[siz] += n_times[i, siz]\n",
    "\n",
    "l_mean = l_mean / reps\n",
    "n_mean = n_mean / reps\n",
    "\n",
    "for entry in range(num):\n",
    "    l_std[entry] = np.std(l_times[:, entry])\n",
    "    n_std[entry] = np.std(n_times[:, entry])"
   ]
  },
  {
   "cell_type": "markdown",
   "metadata": {},
   "source": [
    "# Plot Time Differences"
   ]
  },
  {
   "cell_type": "code",
   "execution_count": null,
   "metadata": {},
   "outputs": [],
   "source": [
    "df = pd.DataFrame(\n",
    "    {\n",
    "        \"size\": sizes,\n",
    "        \"loop\": l_mean,\n",
    "        \"numpy\": n_mean,\n",
    "    }\n",
    ")\n",
    "\n",
    "df = df.melt(id_vars=\"size\", value_vars=[\"loop\", \"numpy\"])\n",
    "\n",
    "df[\"e\"] = np.append(l_std, n_std)\n",
    "\n",
    "\n",
    "px.scatter(\n",
    "    df,\n",
    "    x=\"size\",\n",
    "    y=\"value\",\n",
    "    color=\"variable\",\n",
    "    error_y=\"e\",\n",
    "    width=1500,\n",
    "    height=800,\n",
    ")"
   ]
  },
  {
   "cell_type": "code",
   "execution_count": null,
   "metadata": {},
   "outputs": [],
   "source": [
    "px.scatter(\n",
    "    df,\n",
    "    x=\"size\",\n",
    "    y=\"value\",\n",
    "    color=\"variable\",\n",
    "    log_y=True,\n",
    "    error_y=\"e\",\n",
    "    width=1500,\n",
    "    height=800,\n",
    ")"
   ]
  },
  {
   "cell_type": "markdown",
   "metadata": {},
   "source": [
    "# Save and Load Dataframe"
   ]
  },
  {
   "cell_type": "code",
   "execution_count": null,
   "metadata": {},
   "outputs": [],
   "source": [
    "# df.to_json(\"../data/dataframe_200_32.json\")"
   ]
  },
  {
   "cell_type": "code",
   "execution_count": null,
   "metadata": {},
   "outputs": [],
   "source": [
    "# df_load = pd.read_json(\"../data/dataframe_200_32.json\")"
   ]
  },
  {
   "cell_type": "markdown",
   "metadata": {},
   "source": [
    "# Plot the loaded Dataframe"
   ]
  },
  {
   "cell_type": "code",
   "execution_count": null,
   "metadata": {},
   "outputs": [],
   "source": [
    "# px.scatter(\n",
    "#     df_load,\n",
    "#     x=\"size\",\n",
    "#     y=\"value\",\n",
    "#     color=\"variable\",\n",
    "#     log_y=True,\n",
    "#     error_y=\"e\",\n",
    "#     width=1500,\n",
    "#     height=800,\n",
    "# )"
   ]
  },
  {
   "cell_type": "markdown",
   "metadata": {},
   "source": [
    "# Only Benchmarks a single Operation"
   ]
  },
  {
   "cell_type": "code",
   "execution_count": null,
   "metadata": {},
   "outputs": [],
   "source": [
    "def loop_time(size: int) -> float:\n",
    "    setup_code = f\"\"\"import numpy as np\n",
    "size = {size}\n",
    "x = np.random.randn({size}, {size})\n",
    "y = np.random.randn({size}, {size})\n",
    "res = np.zeros(({size}, {size}))\"\"\"\n",
    "\n",
    "    loop = \"\"\"for i in range(size):\n",
    "        for j in range(size):\n",
    "            for k in range(size):\n",
    "                res[i][j] += x[i][k] * y[k][j]\"\"\"\n",
    "\n",
    "    loop_time = timeit.timeit(loop, setup=setup_code, number=1)\n",
    "\n",
    "    return size, loop_time\n",
    "\n",
    "\n",
    "def bench_loop(size: int, reps: int) -> pd.DataFrame:\n",
    "\n",
    "    loop_times = np.ndarray((reps, size))\n",
    "    loop_mean = np.zeros(size)\n",
    "    loop_std = np.zeros(size)\n",
    "\n",
    "    for i in range(reps):\n",
    "        sizes = []\n",
    "        for siz in range(size):\n",
    "            sz, lt = loop_time(size)\n",
    "            sizes.append(sz)\n",
    "\n",
    "            loop_times[i, siz] = lt\n",
    "            loop_mean[siz] += loop_times[i, siz]\n",
    "\n",
    "    loop_mean = loop_mean / reps\n",
    "\n",
    "    for entry in range(size):\n",
    "        loop_std[entry] = np.std(loop_times[:, entry])\n",
    "\n",
    "    df = pd.DataFrame(\n",
    "        {\n",
    "            \"size\": sizes,\n",
    "            \"time\": loop_mean,\n",
    "            \"deviation\": loop_std,\n",
    "        }\n",
    "    )\n",
    "\n",
    "    return df"
   ]
  },
  {
   "cell_type": "code",
   "execution_count": null,
   "metadata": {},
   "outputs": [],
   "source": [
    "def numpy_time(size: int) -> float:\n",
    "    setup_code = f\"\"\"import numpy as np\n",
    "size = {size}\n",
    "x = np.random.randn({size}, {size})\n",
    "y = np.random.randn({size}, {size})\"\"\"\n",
    "\n",
    "    numpy = \"\"\"res2 = x @ y\"\"\"\n",
    "    numpy_time = timeit.timeit(numpy, setup=setup_code, number=1)\n",
    "\n",
    "    return size, numpy_time\n",
    "\n",
    "\n",
    "def bench_numpy_old(size: int, reps: int) -> pd.DataFrame:\n",
    "\n",
    "    numpy_times = np.ndarray((reps, size))\n",
    "    numpy_mean = np.zeros(size)\n",
    "    numpy_std = np.zeros(size)\n",
    "\n",
    "    for i in range(reps):\n",
    "        sizes = []\n",
    "        for siz in range(size):\n",
    "            sz, nt = numpy_time(size=siz)\n",
    "            sizes.append(sz)\n",
    "\n",
    "            numpy_times[i, siz] = nt\n",
    "            numpy_mean[siz] += numpy_times[i, siz]\n",
    "            print(f\"{i}. Iteration\") if i % 100 == 0 else None\n",
    "\n",
    "    numpy_mean = numpy_mean / reps\n",
    "\n",
    "    for entry in range(size):\n",
    "        numpy_std[entry] = np.std(numpy_times[:, entry])\n",
    "\n",
    "    df = pd.DataFrame(\n",
    "        {\n",
    "            \"size\": sizes,\n",
    "            \"time\": numpy_mean,\n",
    "            \"deviation\": numpy_std,\n",
    "        }\n",
    "    )\n",
    "\n",
    "    return df"
   ]
  },
  {
   "cell_type": "markdown",
   "metadata": {},
   "source": [
    "# Calculate the times"
   ]
  },
  {
   "cell_type": "code",
   "execution_count": null,
   "metadata": {},
   "outputs": [],
   "source": [
    "df_numpy = bench_numpy_old(2000, 32)"
   ]
  },
  {
   "cell_type": "markdown",
   "metadata": {},
   "source": [
    "# Save and Load the Dataframe"
   ]
  },
  {
   "cell_type": "code",
   "execution_count": null,
   "metadata": {},
   "outputs": [],
   "source": [
    "df_numpy.to_json(\"../data/df_numpy_2000_32.json\")"
   ]
  },
  {
   "cell_type": "code",
   "execution_count": null,
   "metadata": {},
   "outputs": [],
   "source": [
    "df_numpy = pd.read_json(\"../data/df_numpy_1000_32.json\")"
   ]
  },
  {
   "cell_type": "markdown",
   "metadata": {},
   "source": [
    "# Plot the times"
   ]
  },
  {
   "cell_type": "code",
   "execution_count": null,
   "metadata": {},
   "outputs": [],
   "source": [
    "px.scatter(\n",
    "    df_numpy,\n",
    "    x=\"size\",\n",
    "    y=\"time\",\n",
    "    error_y=\"deviation\",\n",
    "    width=2200,\n",
    "    height=800,\n",
    "    # range_y=([0, df_numpy[\"deviation\"].max()]),\n",
    ")"
   ]
  },
  {
   "cell_type": "code",
   "execution_count": null,
   "metadata": {},
   "outputs": [],
   "source": [
    "px.scatter(\n",
    "    df_numpy,\n",
    "    x=\"size\",\n",
    "    y=\"time\",\n",
    "    error_y=\"deviation\",\n",
    "    log_y=True,\n",
    "    width=1200,\n",
    "    height=800,\n",
    ")"
   ]
  },
  {
   "cell_type": "markdown",
   "metadata": {},
   "source": [
    "# Numpy Benchmark v2"
   ]
  },
  {
   "cell_type": "code",
   "execution_count": null,
   "metadata": {},
   "outputs": [],
   "source": [
    "def bench_numpy(size: int, iterations: int) -> tuple[np.ndarray, np.ndarray]:\n",
    "    \"\"\"\n",
    "    Berechnet die Zeiten die Numpy braucht um quadratische Arrays von den Größen 1 bis size zu multiplizieren und gibt deren Mittelwert über die iterations und deren Standardabweichung zurück.\n",
    "\n",
    "    :params int size: Größe des Arrays bis zu welchem Zeit berechnet werden soll\n",
    "    :params int iterations: Iterationen über die gemittelt werden soll\n",
    "    :returns: Tupel von zwei Listen (Mittelwerte, Standardabweichung)\n",
    "    \"\"\"\n",
    "    means = np.zeros(size)\n",
    "    deviations = np.zeros(size)\n",
    "    for i in range(size):\n",
    "        ts = np.zeros(iterations)\n",
    "        for j in range(iterations):\n",
    "            x = np.random.randn(i + 1, i + 1)\n",
    "            y = np.random.randn(i + 1, i + 1)\n",
    "\n",
    "            start_time = process_time()\n",
    "            z = x @ y\n",
    "            end_time = process_time()\n",
    "\n",
    "            time = end_time - start_time\n",
    "            ts[j] += time\n",
    "\n",
    "        means[i] += np.mean(ts)\n",
    "        deviations[i] += np.std(ts)\n",
    "\n",
    "    return (means, deviations)"
   ]
  },
  {
   "cell_type": "code",
   "execution_count": null,
   "metadata": {},
   "outputs": [],
   "source": [
    "means, deviations = bench_numpy(500, 100)\n",
    "\n",
    "df = pd.DataFrame(\n",
    "    {\n",
    "        \"size\": np.arange(len(means)) + 1,\n",
    "        \"time\": means,\n",
    "        \"deviation\": deviations,\n",
    "    }\n",
    ")"
   ]
  },
  {
   "cell_type": "code",
   "execution_count": null,
   "metadata": {},
   "outputs": [],
   "source": [
    "px.scatter(df, x=\"size\", y=\"time\", error_y=\"deviation\")"
   ]
  }
 ],
 "metadata": {
  "kernelspec": {
   "display_name": "diy-mnist-nn-ZXZBkNkJ-py3.10",
   "language": "python",
   "name": "python3"
  },
  "language_info": {
   "codemirror_mode": {
    "name": "ipython",
    "version": 3
   },
   "file_extension": ".py",
   "mimetype": "text/x-python",
   "name": "python",
   "nbconvert_exporter": "python",
   "pygments_lexer": "ipython3",
   "version": "3.10.12"
  }
 },
 "nbformat": 4,
 "nbformat_minor": 2
}
