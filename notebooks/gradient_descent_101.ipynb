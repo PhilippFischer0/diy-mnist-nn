{
 "cells": [
  {
   "cell_type": "markdown",
   "metadata": {},
   "source": [
    "<!-- # Code -->"
   ]
  },
  {
   "cell_type": "markdown",
   "metadata": {},
   "source": [
    "<!-- ## Imports -->"
   ]
  },
  {
   "cell_type": "code",
   "execution_count": null,
   "metadata": {},
   "outputs": [],
   "source": [
    "import numpy as np\n",
    "import plotly.graph_objects as go\n",
    "import plotly.io as pio"
   ]
  },
  {
   "cell_type": "markdown",
   "metadata": {},
   "source": [
    "<!-- ## 1. Gradientenverfahren 1D -->"
   ]
  },
  {
   "cell_type": "markdown",
   "metadata": {},
   "source": [
    "<!-- #### 1.0.1 Define function and the derivative -->"
   ]
  },
  {
   "cell_type": "code",
   "execution_count": null,
   "metadata": {},
   "outputs": [],
   "source": [
    "# Funktion definieren\n",
    "def fn1d(x: float) -> float:\n",
    "    return x**5 - 3 * x**3 + x**2 + 2\n",
    "\n",
    "\n",
    "# Händisch Ableitung bestimmen\n",
    "def fn1d_prime(x: float) -> float:\n",
    "    return 5 * x**4 - 9 * x**2 + 2 * x"
   ]
  },
  {
   "cell_type": "markdown",
   "metadata": {},
   "source": [
    "<!-- $\\dot{f}_{1d} = 0$ für $x_1 = 0$ oder $x_2 \\approx 1.2125$ -->"
   ]
  },
  {
   "cell_type": "markdown",
   "metadata": {},
   "source": [
    "<!-- #### 1.0.2 Gradient Descent block -->"
   ]
  },
  {
   "cell_type": "code",
   "execution_count": null,
   "metadata": {},
   "outputs": [],
   "source": [
    "# Lokales Minimum finden mit Gradientenverfahren\n",
    "# Parameters\n",
    "x_start_d1 = 2.3  # Startpunkt\n",
    "xmin = -(np.fabs(x_start_d1) + 1.0)  # borders of the axis\n",
    "xmax = np.fabs(x_start_d1) + 1.0\n",
    "lr = 1e-3  # Schrittgröße (aka. Learning Rate) -> smaller values lead to an increase in accuracy\n",
    "significant_gradient = 1e-3\n",
    "num_rep_1d = 10  # number of repetetive checks before the gradientt descent stops -> increase in number is proportional to accuracy\n",
    "grad_diff = 0  # average change over the last num_rep_1d\n",
    "change_1d = True\n",
    "# TODO: ohne for/while Schleife, elif weglassen -> 2d auch\n",
    "ys = []\n",
    "xs = []\n",
    "\n",
    "while change_1d == True:  # loop as long as there is a significant on average\n",
    "    grad = fn1d_prime(x_start_d1)\n",
    "    if grad >= significant_gradient:\n",
    "        ys.append(fn1d(x_start_d1))\n",
    "        xs.append(x_start_d1)\n",
    "        x_start_d1 = x_start_d1 - lr * grad  # optimize\n",
    "    else:\n",
    "        change_1d = False"
   ]
  },
  {
   "cell_type": "markdown",
   "metadata": {},
   "source": [
    "<!-- ### 1.1 Plot the Function -->"
   ]
  },
  {
   "cell_type": "code",
   "execution_count": null,
   "metadata": {},
   "outputs": [],
   "source": [
    "# define range and values\n",
    "x = np.arange(xmin, xmax, 0.01)\n",
    "y = [fn1d(val) for val in x]\n",
    "y_deriv = [fn1d_prime(val) for val in x]\n",
    "\n",
    "fig = go.Figure(\n",
    "    data=[\n",
    "        go.Scatter(x=x, y=y, mode=\"lines\"),\n",
    "        go.Scatter(x=x, y=y_deriv, mode=\"lines\"),\n",
    "    ]\n",
    ")\n",
    "\n",
    "fig.show()"
   ]
  },
  {
   "cell_type": "markdown",
   "metadata": {},
   "source": [
    "<!-- ### 1.2 Animate the process of Gradient descent  -->"
   ]
  },
  {
   "cell_type": "code",
   "execution_count": null,
   "metadata": {},
   "outputs": [],
   "source": [
    "# define the range and the values\n",
    "x = np.arange(xmin, xmax, 0.01)\n",
    "y = [fn1d(val) for val in x]\n",
    "\n",
    "# initialize the plot and the markers for gradient descent\n",
    "fig = go.Figure(\n",
    "    data=[\n",
    "        go.Scatter(\n",
    "            x=x,\n",
    "            y=y,\n",
    "            mode=\"lines\",\n",
    "            line=dict(color=\"green\", width=1),\n",
    "        ),\n",
    "        go.Scatter(\n",
    "            x=[xs[0]],\n",
    "            y=[ys[0]],\n",
    "            mode=\"markers\",\n",
    "            marker=dict(color=\"red\", size=10),\n",
    "        ),\n",
    "    ]\n",
    ")\n",
    "\n",
    "# update layout parameters and add start button for animation\n",
    "fig.update_layout(\n",
    "    width=1200,\n",
    "    height=800,\n",
    "    xaxis=dict(range=(np.min(x) - 1, np.max(x) + 1), autorange=False, zeroline=False),\n",
    "    yaxis=dict(range=(np.min(y) - 1, np.max(y) + 1), autorange=False, zeroline=False),\n",
    "    title_text=\"2D Gradient Descent Animation\",\n",
    "    # start button config\n",
    "    updatemenus=[\n",
    "        dict(\n",
    "            type=\"buttons\",\n",
    "            buttons=[\n",
    "                dict(\n",
    "                    args=[\n",
    "                        None,\n",
    "                        {\n",
    "                            \"frame\": {\"duration\": 50, \"redraw\": False},\n",
    "                            \"fromcurrent\": True,\n",
    "                            \"transition\": {\"duration\": 10, \"easing\": \"cubic\"},\n",
    "                        },\n",
    "                    ],\n",
    "                    label=\"start\",\n",
    "                    method=\"animate\",\n",
    "                )\n",
    "            ],\n",
    "        )\n",
    "    ],\n",
    ")\n",
    "\n",
    "# specify the animation frames\n",
    "fig.update(\n",
    "    frames=[\n",
    "        go.Frame(data=[go.Scatter(x=[xs[k]], y=[ys[k]])], traces=[1])\n",
    "        for k in range(len(ys))\n",
    "    ]\n",
    ")\n",
    "\n",
    "# show result\n",
    "fig.show()"
   ]
  },
  {
   "cell_type": "markdown",
   "metadata": {},
   "source": [
    "<!-- ## 2. Gradientenverfahren 2D -->"
   ]
  },
  {
   "cell_type": "markdown",
   "metadata": {},
   "source": [
    "<!-- #### 2.0.1 Define function and derivative -->"
   ]
  },
  {
   "cell_type": "code",
   "execution_count": null,
   "metadata": {},
   "outputs": [],
   "source": [
    "# Funktion definieren\n",
    "def fn2d(x, y) -> float:\n",
    "    return np.sin(np.pow(x, 2) + np.pow(y, 2))\n",
    "\n",
    "\n",
    "def fn2d_prime(x: float, y: float) -> np.ndarray:  # gibt 2D Array zurück\n",
    "    partial_x = (\n",
    "        2 * x * np.cos(np.pow(x, 2) + np.pow(y, 2))\n",
    "    )  # leite f nach x ab, lass y konstant\n",
    "    partial_y = (\n",
    "        2 * y * np.cos(np.pow(x, 2) + np.pow(y, 2))\n",
    "    )  # leite f nach y ab, lass x konstant\n",
    "    return np.array([[partial_x], [partial_y]], ndmin=2)"
   ]
  },
  {
   "cell_type": "markdown",
   "metadata": {},
   "source": [
    "<!-- $\\dot{f}_{2d} = 0$ für $x = y = 0$ -->"
   ]
  },
  {
   "cell_type": "markdown",
   "metadata": {},
   "source": [
    "<!-- #### 2.0.2 Gradient Descent block -->\n"
   ]
  },
  {
   "cell_type": "code",
   "execution_count": null,
   "metadata": {},
   "outputs": [],
   "source": [
    "# Lokales Minimum finden mit Gradientenverfahren\n",
    "# Parameters\n",
    "x_start = 2.35  # Startpunkt\n",
    "y_start = 0.35\n",
    "# define axis length of the plot\n",
    "xy_min = np.negative((np.fabs(x_start) + np.fabs(y_start) + 1.0))\n",
    "xy_max = np.fabs(x_start) + np.fabs(y_start) + 1.0\n",
    "lr = 1e-2  # Schrittgröße\n",
    "significant_gradient_2d = 1e-3\n",
    "# num_rep_2d = 10\n",
    "change_2d = True\n",
    "xs_2d = [x_start]\n",
    "ys_2d = [y_start]\n",
    "zs_2d = [fn2d(x_start, y_start)]\n",
    "\n",
    "# same algorithm as in 1 dimensional gradient\n",
    "while change_2d == True:\n",
    "    grad_xy = fn2d_prime(x_start, y_start)\n",
    "    if np.mean(np.fabs(grad_xy)) >= significant_gradient_2d:\n",
    "        x_start = x_start - lr * grad_xy[0, 0]\n",
    "        y_start = y_start - lr * grad_xy[1, 0]\n",
    "        zs_2d.append(fn2d(x_start, y_start))\n",
    "        xs_2d.append(x_start)\n",
    "        ys_2d.append(y_start)\n",
    "    else:\n",
    "        change_2d = False"
   ]
  },
  {
   "cell_type": "markdown",
   "metadata": {},
   "source": [
    "<!-- ### 2.1 Plot the Surface -->"
   ]
  },
  {
   "cell_type": "code",
   "execution_count": null,
   "metadata": {},
   "outputs": [],
   "source": [
    "# pass this argument to make sure the output is rendering in your notebook\n",
    "pio.renderers.default = \"notebook\""
   ]
  },
  {
   "cell_type": "code",
   "execution_count": null,
   "metadata": {},
   "outputs": [],
   "source": [
    "# define range and meshgrid to let numpy handle the iteration through the arrays\n",
    "r2 = np.arange(xy_min, xy_max, 0.01)\n",
    "x2, y2 = np.meshgrid(r2, r2)\n",
    "\n",
    "# calculate the corresponding values of the function\n",
    "vals = fn2d(x2, y2)\n",
    "\n",
    "# initialize the figure of the plot with the data\n",
    "fig2 = go.Figure(data=[go.Surface(z=vals, x=x2, y=y2)])\n",
    "\n",
    "# update layout\n",
    "fig2.update_layout(title=\"Surface Plot Funktion\", autosize=True)\n",
    "\n",
    "# show result\n",
    "fig2.show()"
   ]
  },
  {
   "cell_type": "code",
   "execution_count": null,
   "metadata": {},
   "outputs": [],
   "source": [
    "# define range, meshgrid and values\n",
    "r = np.arange(xy_min, xy_max, 0.01)\n",
    "x, y = np.meshgrid(r, r)\n",
    "\n",
    "vals_animation = fn2d(x, y)\n",
    "\n",
    "# initialize figure with Surface plot and markers\n",
    "fig = go.Figure(\n",
    "    data=[\n",
    "        go.Surface(z=vals_animation, x=x, y=y, opacity=0.5, colorscale=\"Viridis\"),\n",
    "        go.Scatter3d(\n",
    "            x=[xs_2d[0]],\n",
    "            y=[ys_2d[0]],\n",
    "            z=[zs_2d[0]],\n",
    "            mode=\"markers\",\n",
    "            marker=dict(color=\"red\", size=5),\n",
    "        ),\n",
    "    ]\n",
    ")\n",
    "\n",
    "# configure layout\n",
    "fig.update_layout(\n",
    "    # define range of the different axes\n",
    "    scene=dict(\n",
    "        xaxis=dict(\n",
    "            range=(np.min(x) - 1, np.max(x) + 1), autorange=False, zeroline=False\n",
    "        ),\n",
    "        yaxis=dict(\n",
    "            range=(np.min(y) - 1, np.max(y) + 1), autorange=False, zeroline=False\n",
    "        ),\n",
    "        zaxis=dict(\n",
    "            range=(np.min(vals_animation) - 0.5, np.max(vals_animation) + 0.5),\n",
    "            autorange=False,\n",
    "            zeroline=False,\n",
    "        ),\n",
    "    ),\n",
    "    title_text=\"3D Gradient Descent Animation\",\n",
    "    # animation configuration -> redraw needs to be true\n",
    "    updatemenus=[\n",
    "        dict(\n",
    "            type=\"buttons\",\n",
    "            buttons=[\n",
    "                dict(\n",
    "                    args=[\n",
    "                        None,\n",
    "                        {\n",
    "                            \"frame\": {\"duration\": 50, \"redraw\": True},\n",
    "                            \"mode\": \"immediate\",\n",
    "                            \"fromcurrent\": True,\n",
    "                            \"transition\": {\"duration\": 0, \"easing\": \"linear\"},\n",
    "                        },\n",
    "                    ],\n",
    "                    label=\"start\",\n",
    "                    method=\"animate\",\n",
    "                )\n",
    "            ],\n",
    "        )\n",
    "    ],\n",
    ")\n",
    "\n",
    "# handle animation frames\n",
    "fig.update(\n",
    "    frames=[\n",
    "        go.Frame(\n",
    "            data=[go.Scatter3d(x=[xs_2d[k]], y=[ys_2d[k]], z=[zs_2d[k]])], traces=[1]\n",
    "        )\n",
    "        for k in range(len(zs_2d))\n",
    "    ]\n",
    ")\n",
    "\n",
    "# output the figure\n",
    "fig.show()\n",
    "\n",
    "# TODO: freecam 3D Animation\n",
    "len(zs_2d), len(xs_2d), len(ys_2d)"
   ]
  }
 ],
 "metadata": {
  "kernelspec": {
   "display_name": "diy-mnist-nn-ZXZBkNkJ-py3.10",
   "language": "python",
   "name": "python3"
  },
  "language_info": {
   "codemirror_mode": {
    "name": "ipython",
    "version": 3
   },
   "file_extension": ".py",
   "mimetype": "text/x-python",
   "name": "python",
   "nbconvert_exporter": "python",
   "pygments_lexer": "ipython3",
   "version": "3.10.12"
  }
 },
 "nbformat": 4,
 "nbformat_minor": 2
}
