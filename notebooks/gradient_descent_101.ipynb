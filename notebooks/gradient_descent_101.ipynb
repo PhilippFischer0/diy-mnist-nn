{
 "cells": [
  {
   "cell_type": "markdown",
   "metadata": {},
   "source": [
    "# Code"
   ]
  },
  {
   "cell_type": "markdown",
   "metadata": {},
   "source": [
    "## Imports"
   ]
  },
  {
   "cell_type": "code",
   "execution_count": null,
   "metadata": {},
   "outputs": [],
   "source": [
    "import numpy as np\n",
    "import plotly.graph_objects as go\n",
    "import plotly.express as px\n",
    "import pandas as pd\n",
    "import plotly.io as pio"
   ]
  },
  {
   "cell_type": "markdown",
   "metadata": {},
   "source": [
    "## 1. Gradientenverfahren 1D"
   ]
  },
  {
   "cell_type": "markdown",
   "metadata": {},
   "source": [
    "#### 1.0.1 Define function and the derivative"
   ]
  },
  {
   "cell_type": "code",
   "execution_count": null,
   "metadata": {},
   "outputs": [],
   "source": [
    "# Funktion definieren\n",
    "def fn1d(x: float) -> float:\n",
    "    return x**5 - 3 * x**3 + x**2 + 2\n",
    "\n",
    "\n",
    "# Händisch Ableitung bestimmen\n",
    "def fn1d_prime(x: float) -> float:\n",
    "    return 5 * x**4 - 9 * x**2 + 2 * x"
   ]
  },
  {
   "cell_type": "markdown",
   "metadata": {},
   "source": [
    "#### 1.0.2 Gradient Descent block"
   ]
  },
  {
   "cell_type": "code",
   "execution_count": null,
   "metadata": {},
   "outputs": [],
   "source": [
    "# Lokales Minimum finden mit Gradientenverfahren\n",
    "# Parameters\n",
    "x_start_d1 = 2  # Startpunkt\n",
    "lr = 1e-2  # Schrittgröße (aka. Learning Rate) -> smaller values lead to an increase in accuracy\n",
    "num_rep_1d = 10  # number of repetetive checks before the gradientt descent stops -> increase in number is proportional to accuracy\n",
    "grad_diff = fn1d_prime(x_start_d1)  # average change over the last num_rep_1d\n",
    "change_1d = True\n",
    "ys = []\n",
    "xs = []\n",
    "\n",
    "while change_1d is True:  # loop as long as there is a significant on average\n",
    "    for i in range(\n",
    "        num_rep_1d\n",
    "    ):  # repeat a certain number of times to make sure it ends at a local minimum\n",
    "        if np.absolute(grad_diff / (i + 1)) >= 1e-1 and i == 0:\n",
    "            grad = fn1d_prime(x_start_d1)\n",
    "            ys.append(fn1d(x_start_d1))\n",
    "            xs.append(x_start_d1)\n",
    "            x_start_d1 = x_start_d1 - lr * grad  # optimize\n",
    "        elif np.absolute(grad_diff / (i + 1)) >= 1e-1:\n",
    "            grad = fn1d_prime(x_start_d1)\n",
    "            grad_diff += grad if i != 0 else None\n",
    "            ys.append(fn1d(x_start_d1))\n",
    "            xs.append(x_start_d1)\n",
    "            x_start_d1 = x_start_d1 - lr * grad  # optimize\n",
    "        else:\n",
    "            change_1d = False\n",
    "    grad_diff = grad"
   ]
  },
  {
   "cell_type": "markdown",
   "metadata": {},
   "source": [
    "### 1.1 Plot the Function"
   ]
  },
  {
   "cell_type": "code",
   "execution_count": null,
   "metadata": {},
   "outputs": [],
   "source": [
    "# define range and values\n",
    "xmin = -2\n",
    "xmax = 2\n",
    "x = np.arange(xmin, xmax, 0.01)\n",
    "y = [fn1d(val) for val in x]\n",
    "\n",
    "df = pd.DataFrame(dict(x=x, y=y))\n",
    "fig = px.line(df, x=\"x\", y=\"y\", title=\"Line Plot\")\n",
    "\n",
    "fig.show()"
   ]
  },
  {
   "cell_type": "markdown",
   "metadata": {},
   "source": [
    "### 1.2 Animate the process of Gradient descent "
   ]
  },
  {
   "cell_type": "code",
   "execution_count": null,
   "metadata": {},
   "outputs": [],
   "source": [
    "# define the range and the values\n",
    "x = np.arange(xmin, xmax, 0.01)\n",
    "y = [fn1d(val) for val in x]\n",
    "\n",
    "# initialize the plot and the markers for gradient descent\n",
    "fig = go.Figure(\n",
    "    data=[\n",
    "        go.Scatter(\n",
    "            x=x,\n",
    "            y=y,\n",
    "            mode=\"lines\",\n",
    "            line=dict(color=\"green\", width=1),\n",
    "        ),\n",
    "        go.Scatter(\n",
    "            x=[xs[0]],\n",
    "            y=[ys[0]],\n",
    "            mode=\"markers\",\n",
    "            marker=dict(color=\"red\", size=10),\n",
    "        ),\n",
    "    ]\n",
    ")\n",
    "\n",
    "# update layout parameters and add start button for animation\n",
    "fig.update_layout(\n",
    "    width=1200,\n",
    "    height=800,\n",
    "    xaxis=dict(range=(np.min(x) - 1, np.max(x) + 1), autorange=False, zeroline=False),\n",
    "    yaxis=dict(range=(np.min(y) - 1, np.max(y) + 1), autorange=False, zeroline=False),\n",
    "    title_text=\"2D Gradient Descent Animation\",\n",
    "    # start button config\n",
    "    updatemenus=[\n",
    "        dict(\n",
    "            type=\"buttons\",\n",
    "            buttons=[\n",
    "                dict(\n",
    "                    args=[\n",
    "                        None,\n",
    "                        {\n",
    "                            \"frame\": {\"duration\": 500, \"redraw\": False},\n",
    "                            \"fromcurrent\": True,\n",
    "                            \"transition\": {\"duration\": 1000, \"easing\": \"cubic\"},\n",
    "                        },\n",
    "                    ],\n",
    "                    label=\"start\",\n",
    "                    method=\"animate\",\n",
    "                )\n",
    "            ],\n",
    "        )\n",
    "    ],\n",
    ")\n",
    "\n",
    "# specify the animation frames\n",
    "fig.update(\n",
    "    frames=[\n",
    "        go.Frame(data=[go.Scatter(x=[xs[k]], y=[ys[k]])], traces=[1])\n",
    "        for k in range(len(ys))\n",
    "    ]\n",
    ")\n",
    "\n",
    "# show result\n",
    "fig.show()"
   ]
  },
  {
   "cell_type": "markdown",
   "metadata": {},
   "source": [
    "## 2. Gradientenverfahren 2D"
   ]
  },
  {
   "cell_type": "markdown",
   "metadata": {},
   "source": [
    "#### 2.0.1 Define function and derivative"
   ]
  },
  {
   "cell_type": "code",
   "execution_count": null,
   "metadata": {},
   "outputs": [],
   "source": [
    "# Funktion definieren\n",
    "def fn2d(x, y) -> float:\n",
    "    return np.sqrt(np.pow(x, 2) + np.pow(y, 2))\n",
    "\n",
    "\n",
    "# Ableitung\n",
    "def fn2d_prime(x: float, y: float) -> np.ndarray:  # gibt 2D Array zurück\n",
    "    partial_x = 2 * x  # leite f nach x ab, lass y konstant\n",
    "    partial_y = 2 * y  # leite f nach y ab, lass x konstant\n",
    "    return np.array([[partial_x], [partial_y]], ndmin=2)"
   ]
  },
  {
   "cell_type": "markdown",
   "metadata": {},
   "source": [
    "#### 2.0.2 Gradient Descent block"
   ]
  },
  {
   "cell_type": "code",
   "execution_count": null,
   "metadata": {},
   "outputs": [],
   "source": [
    "# Lokales Minimum finden mit Gradientenverfahren\n",
    "# Parameters\n",
    "x_start = 2.0  # Startpunkt\n",
    "y_start = 2.0\n",
    "lr = 1e-1  # Schrittgröße\n",
    "num_rep_2d = 10\n",
    "grad_xy_diff = fn2d_prime(x_start, y_start)\n",
    "change_2d = True\n",
    "xs_2d = [x_start]\n",
    "ys_2d = [y_start]\n",
    "zs_2d = [fn2d(x_start, y_start)]\n",
    "\n",
    "# same algorithm as in 1 dimensional gradient\n",
    "while change_2d == True:\n",
    "    for i in range(num_rep_2d):\n",
    "        if np.absolute(np.mean(grad_xy_diff)) / (i + 1) >= 1e-3 and i == 0:\n",
    "            grad_xy = fn2d_prime(x_start, y_start)\n",
    "            x_start = x_start - lr * grad_xy[0, 0]\n",
    "            y_start = y_start - lr * grad_xy[1, 0]\n",
    "            zs_2d.append(fn2d(x_start, y_start))\n",
    "            xs_2d.append(x_start)\n",
    "            ys_2d.append(y_start)\n",
    "        elif np.absolute(np.mean(grad_xy_diff)) / (i + 1) >= 1e-3:\n",
    "            grad_xy = fn2d_prime(x_start, y_start)\n",
    "            grad_xy_diff[0, 0] += grad_xy[0, 0]\n",
    "            grad_xy_diff[1, 0] += grad_xy[1, 0]\n",
    "            x_start = x_start - lr * grad_xy[0, 0]\n",
    "            y_start = y_start - lr * grad_xy[1, 0]\n",
    "            zs_2d.append(fn2d(x_start, y_start))\n",
    "            xs_2d.append(x_start)\n",
    "            ys_2d.append(y_start)\n",
    "        else:\n",
    "            change_2d = False\n",
    "            zs_2d.append(fn2d(x_start, y_start))\n",
    "            xs_2d.append(x_start)\n",
    "            ys_2d.append(y_start)\n",
    "    grad_xy_diff[0, 0], grad_xy_diff[1, 0] = grad_xy[0, 0], grad_xy[1, 0]\n",
    "    # print(x_start, grad_xy[0, 0], y_start, grad_xy[1, 0])"
   ]
  },
  {
   "cell_type": "markdown",
   "metadata": {},
   "source": [
    "### 2.1 Plot the Surface"
   ]
  },
  {
   "cell_type": "code",
   "execution_count": null,
   "metadata": {},
   "outputs": [],
   "source": [
    "# pass this argument to make sure the output is rendering in your notebook\n",
    "pio.renderers.default = \"notebook\"\n",
    "\n",
    "# define range and meshgrid to let numpy handle the iteration through the arrays\n",
    "xy_min = -2\n",
    "xy_max = 2\n",
    "r = np.arange(xy_min, xy_max, 0.01)\n",
    "x, y = np.meshgrid(r, r)\n",
    "\n",
    "# calculate the corresponding values of the function\n",
    "vals = fn2d(x, y)\n",
    "\n",
    "# initialize the figure of the plot with the data\n",
    "fig2 = go.Figure(data=[go.Surface(z=vals, x=x, y=y)])\n",
    "\n",
    "# update layout\n",
    "fig2.update_layout(title=\"Surface Plot\", autosize=True)\n",
    "\n",
    "# show result\n",
    "fig2.show()"
   ]
  },
  {
   "cell_type": "markdown",
   "metadata": {},
   "source": [
    "### 2.2 Plot the process of Gradient Descent"
   ]
  },
  {
   "cell_type": "code",
   "execution_count": null,
   "metadata": {},
   "outputs": [],
   "source": [
    "# make sure the output renders\n",
    "pio.renderers.default = \"notebook\"\n",
    "\n",
    "# define range, meshgrid and values\n",
    "r = np.arange(xy_min, xy_max, 0.01)\n",
    "x, y = np.meshgrid(r, r)\n",
    "\n",
    "vals = fn2d(x, y)\n",
    "\n",
    "# initialize figure with Surface plot and markers\n",
    "fig = go.Figure(\n",
    "    data=[\n",
    "        go.Surface(z=vals, x=x, y=y),\n",
    "        go.Scatter3d(\n",
    "            x=[xs_2d[0]],\n",
    "            y=[ys_2d[0]],\n",
    "            z=[zs_2d[0]],\n",
    "            mode=\"markers\",\n",
    "            marker=dict(color=\"cyan\", size=5),\n",
    "        ),\n",
    "    ]\n",
    ")\n",
    "\n",
    "# configure layout\n",
    "fig.update_layout(\n",
    "    # define range of the different axes\n",
    "    scene=dict(\n",
    "        xaxis=dict(\n",
    "            range=(np.min(x) - 2, np.max(x) + 2), autorange=False, zeroline=False\n",
    "        ),\n",
    "        yaxis=dict(\n",
    "            range=(np.min(y) - 2, np.max(y) + 2), autorange=False, zeroline=False\n",
    "        ),\n",
    "        zaxis=dict(\n",
    "            range=(np.min(zs_2d), np.max(zs_2d) + 2), autorange=False, zeroline=False\n",
    "        ),\n",
    "    ),\n",
    "    title_text=\"3D Gradient Descent Animation\",\n",
    "    # animation configuration -> redraw needs to be true\n",
    "    updatemenus=[\n",
    "        dict(\n",
    "            type=\"buttons\",\n",
    "            buttons=[\n",
    "                dict(\n",
    "                    args=[\n",
    "                        None,\n",
    "                        {\n",
    "                            \"frame\": {\"duration\": 500, \"redraw\": True},\n",
    "                            \"fromcurrent\": True,\n",
    "                            \"transition\": {\"duration\": 500},\n",
    "                        },\n",
    "                    ],\n",
    "                    label=\"start\",\n",
    "                    method=\"animate\",\n",
    "                )\n",
    "            ],\n",
    "        )\n",
    "    ],\n",
    ")\n",
    "\n",
    "# handle animation frames\n",
    "fig.update(\n",
    "    frames=[\n",
    "        go.Frame(\n",
    "            data=[go.Scatter3d(x=[xs_2d[k]], y=[ys_2d[k]], z=[zs_2d[k]])], traces=[1]\n",
    "        )\n",
    "        for k in range(len(zs_2d))\n",
    "    ]\n",
    ")\n",
    "\n",
    "# output the figure\n",
    "fig.show()"
   ]
  }
 ],
 "metadata": {
  "kernelspec": {
   "display_name": "diy-mnist-nn-ZXZBkNkJ-py3.10",
   "language": "python",
   "name": "python3"
  },
  "language_info": {
   "codemirror_mode": {
    "name": "ipython",
    "version": 3
   },
   "file_extension": ".py",
   "mimetype": "text/x-python",
   "name": "python",
   "nbconvert_exporter": "python",
   "pygments_lexer": "ipython3",
   "version": "3.10.12"
  }
 },
 "nbformat": 4,
 "nbformat_minor": 2
}
