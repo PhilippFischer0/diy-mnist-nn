{
 "cells": [
  {
   "cell_type": "markdown",
   "metadata": {},
   "source": [
    "# Code"
   ]
  },
  {
   "cell_type": "markdown",
   "metadata": {},
   "source": [
    "## 0. Imports"
   ]
  },
  {
   "cell_type": "code",
   "execution_count": null,
   "metadata": {},
   "outputs": [],
   "source": [
    "import numpy as np\n",
    "import plotly.graph_objects as go\n",
    "import plotly.io as pio"
   ]
  },
  {
   "cell_type": "markdown",
   "metadata": {},
   "source": [
    "## 1. Gradientenverfahren 1D"
   ]
  },
  {
   "cell_type": "markdown",
   "metadata": {},
   "source": [
    "### 1.0 Algorithmus"
   ]
  },
  {
   "cell_type": "markdown",
   "metadata": {},
   "source": [
    "#### 1.0.1 Define function and the derivative"
   ]
  },
  {
   "cell_type": "code",
   "execution_count": null,
   "metadata": {},
   "outputs": [],
   "source": [
    "# Funktion definieren\n",
    "def fn1d(x: float) -> float:\n",
    "    return x**5 - 3 * x**3 + x**2 + 2\n",
    "\n",
    "\n",
    "# Händisch Ableitung bestimmen\n",
    "def fn1d_prime(x: float) -> float:\n",
    "    return 5 * x**4 - 9 * x**2 + 2 * x"
   ]
  },
  {
   "cell_type": "markdown",
   "metadata": {},
   "source": [
    "#### 1.0.2 Gradient Descent block"
   ]
  },
  {
   "cell_type": "code",
   "execution_count": null,
   "metadata": {},
   "outputs": [],
   "source": [
    "# Lokales Minimum finden mit Gradientenverfahren\n",
    "# Parameters\n",
    "x_start_d1 = 2.3  # Startpunkt\n",
    "xmin = -(np.fabs(x_start_d1) + 1.0)  # borders of the axis\n",
    "xmax = np.fabs(x_start_d1) + 1.0\n",
    "lr = 1e-3  # Schrittgröße (aka. Learning Rate) -> smaller values lead to an increase in accuracy\n",
    "significant_gradient = 1e-3\n",
    "num_rep_1d = 10  # number of repetetive checks before the gradientt descent stops -> increase in number is proportional to accuracy\n",
    "grad_diff = 0  # average change over the last num_rep_1d\n",
    "change_1d = True\n",
    "ys = []\n",
    "xs = []\n",
    "\n",
    "while change_1d == True:  # loop as long as there is a significant on average\n",
    "    grad = fn1d_prime(x_start_d1)\n",
    "    if grad >= significant_gradient:\n",
    "        ys.append(fn1d(x_start_d1))\n",
    "        xs.append(x_start_d1)\n",
    "        x_start_d1 = x_start_d1 - lr * grad  # optimize\n",
    "    else:\n",
    "        change_1d = False"
   ]
  },
  {
   "cell_type": "markdown",
   "metadata": {},
   "source": [
    "### 1.1 Plots"
   ]
  },
  {
   "cell_type": "markdown",
   "metadata": {},
   "source": [
    "#### 1.1.1 Plot the Function"
   ]
  },
  {
   "cell_type": "code",
   "execution_count": null,
   "metadata": {},
   "outputs": [],
   "source": [
    "# define range and values\n",
    "x = np.arange(xmin, xmax, 0.01)\n",
    "y = [fn1d(val) for val in x]\n",
    "y_deriv = [fn1d_prime(val) for val in x]\n",
    "\n",
    "fig = go.Figure(\n",
    "    data=[\n",
    "        go.Scatter(x=x, y=y, mode=\"lines\"),\n",
    "        go.Scatter(x=x, y=y_deriv, mode=\"lines\"),\n",
    "    ]\n",
    ")\n",
    "\n",
    "fig.update_layout(width=1200, height=800)\n",
    "\n",
    "fig.show()"
   ]
  },
  {
   "cell_type": "markdown",
   "metadata": {},
   "source": [
    "#### 1.1.2 Animate the process of Gradient descent "
   ]
  },
  {
   "cell_type": "code",
   "execution_count": null,
   "metadata": {},
   "outputs": [],
   "source": [
    "# define the range and the values\n",
    "x = np.arange(xmin, xmax, 0.01)\n",
    "y = [fn1d(val) for val in x]\n",
    "\n",
    "# initialize the plot and the markers for gradient descent\n",
    "fig = go.Figure(\n",
    "    data=[\n",
    "        go.Scatter(\n",
    "            x=x,\n",
    "            y=y,\n",
    "            mode=\"lines\",\n",
    "            line=dict(color=\"green\", width=1),\n",
    "        ),\n",
    "        go.Scatter(\n",
    "            x=[xs[0]],\n",
    "            y=[ys[0]],\n",
    "            mode=\"markers\",\n",
    "            marker=dict(color=\"red\", size=10),\n",
    "        ),\n",
    "    ]\n",
    ")\n",
    "\n",
    "# update layout parameters and add start button for animation\n",
    "fig.update_layout(\n",
    "    width=1200,\n",
    "    height=800,\n",
    "    xaxis=dict(range=(np.min(x) - 1, np.max(x) + 1), autorange=False, zeroline=False),\n",
    "    yaxis=dict(range=(np.min(y) - 1, np.max(y) + 1), autorange=False, zeroline=False),\n",
    "    title_text=\"2D Gradient Descent Animation\",\n",
    "    # start button config\n",
    "    updatemenus=[\n",
    "        dict(\n",
    "            type=\"buttons\",\n",
    "            buttons=[\n",
    "                dict(\n",
    "                    args=[\n",
    "                        None,\n",
    "                        {\n",
    "                            \"frame\": {\"duration\": 50, \"redraw\": False},\n",
    "                            \"fromcurrent\": True,\n",
    "                            \"transition\": {\"duration\": 10, \"easing\": \"cubic\"},\n",
    "                        },\n",
    "                    ],\n",
    "                    label=\"start\",\n",
    "                    method=\"animate\",\n",
    "                )\n",
    "            ],\n",
    "        )\n",
    "    ],\n",
    ")\n",
    "\n",
    "# specify the animation frames\n",
    "fig.update(\n",
    "    frames=[\n",
    "        go.Frame(data=[go.Scatter(x=[xs[k]], y=[ys[k]])], traces=[1])\n",
    "        for k in range(len(ys))\n",
    "    ]\n",
    ")\n",
    "\n",
    "# show result\n",
    "fig.show()"
   ]
  },
  {
   "cell_type": "markdown",
   "metadata": {},
   "source": [
    "## 2. Gradientenverfahren 2D"
   ]
  },
  {
   "cell_type": "markdown",
   "metadata": {},
   "source": [
    "### 2.0 Algorithmus"
   ]
  },
  {
   "cell_type": "markdown",
   "metadata": {},
   "source": [
    "#### 2.0.1 Define function and derivative"
   ]
  },
  {
   "cell_type": "code",
   "execution_count": null,
   "metadata": {},
   "outputs": [],
   "source": [
    "# Funktion definieren\n",
    "def fn2d(x, y) -> float:\n",
    "    return np.sin(np.pow(x, 2) + np.pow(y, 2))\n",
    "\n",
    "\n",
    "def fn2d_prime(x: float, y: float) -> np.ndarray:  # gibt 2D Array zurück\n",
    "    partial_x = (\n",
    "        2 * x * np.cos(np.pow(x, 2) + np.pow(y, 2))\n",
    "    )  # leite f nach x ab, lass y konstant\n",
    "    partial_y = (\n",
    "        2 * y * np.cos(np.pow(x, 2) + np.pow(y, 2))\n",
    "    )  # leite f nach y ab, lass x konstant\n",
    "    return np.array([[partial_x], [partial_y]], ndmin=2)"
   ]
  },
  {
   "cell_type": "markdown",
   "metadata": {},
   "source": [
    "$\\dot{f}_{2d} = 0$ für $x = y = 0$"
   ]
  },
  {
   "cell_type": "markdown",
   "metadata": {},
   "source": [
    "#### 2.0.2 Gradient Descent block\n"
   ]
  },
  {
   "cell_type": "code",
   "execution_count": null,
   "metadata": {},
   "outputs": [],
   "source": [
    "# Lokales Minimum finden mit Gradientenverfahren\n",
    "# Parameters\n",
    "x_start = 0.1  # Startpunkt\n",
    "y_start = -2.7\n",
    "# define axis length of the plot\n",
    "xy_min = np.negative((np.fabs(x_start) + np.fabs(y_start) + 1.0))\n",
    "xy_max = np.fabs(x_start) + np.fabs(y_start) + 1.0\n",
    "lr = 1e-2  # Schrittgröße\n",
    "significant_gradient_2d = 1e-3\n",
    "# num_rep_2d = 10\n",
    "change_2d = True\n",
    "xs_2d = [x_start]\n",
    "ys_2d = [y_start]\n",
    "zs_2d = [fn2d(x_start, y_start)]\n",
    "\n",
    "# same algorithm as in 1 dimensional gradient\n",
    "while change_2d == True:\n",
    "    grad_xy = fn2d_prime(x_start, y_start)\n",
    "    if np.mean(np.fabs(grad_xy)) >= significant_gradient_2d:\n",
    "        x_start = x_start - lr * grad_xy[0, 0]\n",
    "        y_start = y_start - lr * grad_xy[1, 0]\n",
    "        zs_2d.append(fn2d(x_start, y_start))\n",
    "        xs_2d.append(x_start)\n",
    "        ys_2d.append(y_start)\n",
    "    else:\n",
    "        change_2d = False"
   ]
  },
  {
   "cell_type": "markdown",
   "metadata": {},
   "source": [
    "### 2.1 Plots"
   ]
  },
  {
   "cell_type": "markdown",
   "metadata": {},
   "source": [
    "#### 2.1.1 Plot the Surface"
   ]
  },
  {
   "cell_type": "code",
   "execution_count": null,
   "metadata": {},
   "outputs": [],
   "source": [
    "# pass this argument to make sure the output is rendering in your notebook\n",
    "pio.renderers.default = \"notebook\""
   ]
  },
  {
   "cell_type": "code",
   "execution_count": null,
   "metadata": {},
   "outputs": [],
   "source": [
    "# define range and meshgrid to let numpy handle the iteration through the arrays\n",
    "r2 = np.arange(xy_min, xy_max, 0.01)\n",
    "x2, y2 = np.meshgrid(r2, r2)\n",
    "\n",
    "# calculate the corresponding values of the function\n",
    "vals = fn2d(x2, y2)\n",
    "\n",
    "# initialize the figure of the plot with the data\n",
    "fig2 = go.Figure(\n",
    "    data=[\n",
    "        go.Surface(\n",
    "            z=vals,\n",
    "            x=x2,\n",
    "            y=y2,\n",
    "            colorscale=\"ice\",\n",
    "            showscale=False,\n",
    "        )\n",
    "    ]\n",
    ")\n",
    "\n",
    "# update layout\n",
    "fig2.update_layout(\n",
    "    title=\"Surface Plot Funktion\",\n",
    "    scene=dict(\n",
    "        xaxis=dict(\n",
    "            range=(np.min(x2) - 1, np.max(x2) + 1), autorange=False, zeroline=False\n",
    "        ),\n",
    "        yaxis=dict(\n",
    "            range=(np.min(y2) - 1, np.max(y2) + 1), autorange=False, zeroline=False\n",
    "        ),\n",
    "        zaxis=dict(\n",
    "            range=(np.min(vals) - 0.5, np.max(vals) + 0.5),\n",
    "            autorange=False,\n",
    "            zeroline=False,\n",
    "        ),\n",
    "    ),\n",
    "    autosize=False,\n",
    "    width=1200,\n",
    "    height=600,\n",
    ")\n",
    "\n",
    "# show result\n",
    "fig2.show()"
   ]
  },
  {
   "cell_type": "markdown",
   "metadata": {},
   "source": [
    "#### 2.1.2 Plot the process of Gradient Descent"
   ]
  },
  {
   "cell_type": "code",
   "execution_count": null,
   "metadata": {},
   "outputs": [],
   "source": [
    "# define range, meshgrid and values\n",
    "r = np.arange(xy_min, xy_max, 0.01)\n",
    "x, y = np.meshgrid(r, r)\n",
    "\n",
    "vals_animation = fn2d(x, y)\n",
    "\n",
    "# initialize figure with Surface plot and markers\n",
    "fig = go.Figure(\n",
    "    data=[\n",
    "        go.Surface(\n",
    "            z=vals_animation,\n",
    "            x=x,\n",
    "            y=y,\n",
    "            opacity=0.5,\n",
    "            colorscale=\"ice\",\n",
    "            name=\"Function Plot\",\n",
    "            showscale=False,\n",
    "        ),\n",
    "        go.Scatter3d(\n",
    "            x=[xs_2d[0]],\n",
    "            y=[ys_2d[0]],\n",
    "            z=[zs_2d[0]],\n",
    "            mode=\"markers\",\n",
    "            name=\"Current descent\",\n",
    "            marker=dict(color=\"darkred\", size=5),\n",
    "        ),\n",
    "    ],\n",
    ")\n",
    "\n",
    "# configure layout\n",
    "fig.update_layout(\n",
    "    # define range of the different axes\n",
    "    scene=dict(\n",
    "        xaxis=dict(\n",
    "            range=(np.min(x) - 0.5, np.max(x) + 0.5), autorange=False, zeroline=False\n",
    "        ),\n",
    "        yaxis=dict(\n",
    "            range=(np.min(y) - 0.5, np.max(y) + 0.5), autorange=False, zeroline=False\n",
    "        ),\n",
    "        zaxis=dict(\n",
    "            range=(np.min(vals_animation) - 0.5, np.max(vals_animation) + 0.5),\n",
    "            autorange=False,\n",
    "            zeroline=False,\n",
    "        ),\n",
    "    ),\n",
    "    width=1200,\n",
    "    height=800,\n",
    "    title_text=\"3D Gradient Descent Animation\",\n",
    "    # animation configuration -> redraw needs to be true\n",
    "    updatemenus=[\n",
    "        dict(\n",
    "            type=\"buttons\",\n",
    "            buttons=[\n",
    "                dict(\n",
    "                    args=[\n",
    "                        None,\n",
    "                        {\n",
    "                            \"frame\": {\"duration\": 50, \"redraw\": True},\n",
    "                            \"mode\": \"immediate\",\n",
    "                            \"fromcurrent\": True,\n",
    "                            \"transition\": {\"duration\": 0, \"easing\": \"linear\"},\n",
    "                        },\n",
    "                    ],\n",
    "                    label=\"start\",\n",
    "                    method=\"animate\",\n",
    "                )\n",
    "            ],\n",
    "        )\n",
    "    ],\n",
    ")\n",
    "\n",
    "# handle animation frames\n",
    "fig.update(\n",
    "    frames=[\n",
    "        go.Frame(\n",
    "            data=[go.Scatter3d(x=[xs_2d[k]], y=[ys_2d[k]], z=[zs_2d[k]])], traces=[1]\n",
    "        )\n",
    "        for k in range(len(zs_2d))\n",
    "    ]\n",
    ")\n",
    "\n",
    "# output the figure\n",
    "fig.show()"
   ]
  },
  {
   "cell_type": "markdown",
   "metadata": {},
   "source": [
    "## 3. Gradientenverfahren 3D"
   ]
  },
  {
   "cell_type": "markdown",
   "metadata": {},
   "source": [
    "#### 3.1 Define function and derivative"
   ]
  },
  {
   "cell_type": "code",
   "execution_count": null,
   "metadata": {},
   "outputs": [],
   "source": [
    "def fn3d(x: float, y: float, z: float) -> float:\n",
    "\n",
    "    return np.sin(np.exp(x) + np.exp(y) - np.cos(z))\n",
    "\n",
    "\n",
    "def fn3d_prime(x: float, y: float, z: float) -> np.ndarray:\n",
    "    partial_x = np.exp(x) * np.cos(np.exp(x) + np.exp(y) - np.cos(z))\n",
    "    partial_y = np.exp(y) * np.cos(np.exp(x) + np.exp(y) - np.cos(z))\n",
    "    partial_z = (-np.sin(z)) * np.cos(np.exp(x) + np.exp(y) - np.cos(z))\n",
    "\n",
    "    return np.array([[partial_x], [partial_y], [partial_z]], ndmin=2)"
   ]
  },
  {
   "cell_type": "markdown",
   "metadata": {},
   "source": [
    "#### 3.2 Gradient descent process"
   ]
  },
  {
   "cell_type": "code",
   "execution_count": null,
   "metadata": {},
   "outputs": [],
   "source": [
    "# Parameters\n",
    "x3d = 0.1  # Startpunkt\n",
    "y3d = -1.7\n",
    "z3d = 1.0\n",
    "lr = 1e-3  # Schrittgröße\n",
    "significant_gradient_3d = 1e-3\n",
    "# num_rep_2d = 10\n",
    "change_3d = True\n",
    "i = 1\n",
    "values3d = [1.0, fn3d(x3d, y3d, z3d)]\n",
    "iters3d = []\n",
    "\n",
    "while change_3d is True:\n",
    "    grad_xyz = fn3d_prime(x3d, y3d, z3d)\n",
    "    if np.mean(np.fabs(grad_xyz)) >= significant_gradient_3d and values3d[\n",
    "        i - 2\n",
    "    ] >= fn3d(x3d, y3d, z3d):\n",
    "        iters3d.append(i)\n",
    "        x3d = x3d - (lr * grad_xyz[0, 0])\n",
    "        y3d = y3d - (lr * grad_xyz[1, 0])\n",
    "        z3d = z3d - (lr * grad_xyz[2, 0])\n",
    "        (\n",
    "            print(f\"Iteration: {i}, Funktionswert: {fn3d(x3d, y3d, z3d)}\")\n",
    "            if i % 100 == 0\n",
    "            else None\n",
    "        )\n",
    "        values3d.append(fn3d(x3d, y3d, z3d))\n",
    "    else:\n",
    "        change_3d = False\n",
    "    i += 1\n",
    "\n",
    "print(f\"Letzte Iteration: {i}, finaler Funktionswert: {fn3d(x3d, y3d, z3d)}\")"
   ]
  },
  {
   "cell_type": "markdown",
   "metadata": {},
   "source": [
    "#### 3.3 Plot Funktionswerte"
   ]
  },
  {
   "cell_type": "code",
   "execution_count": null,
   "metadata": {},
   "outputs": [],
   "source": [
    "fig = go.Figure(data=[go.Scatter(x=iters3d, y=values3d[1:], mode=\"markers\")])\n",
    "\n",
    "fig.show()"
   ]
  },
  {
   "cell_type": "markdown",
   "metadata": {},
   "source": [
    "## 4. Gradientenverfahren 4D"
   ]
  },
  {
   "cell_type": "markdown",
   "metadata": {},
   "source": [
    "#### 4.1 Define function and derivative"
   ]
  },
  {
   "cell_type": "code",
   "execution_count": null,
   "metadata": {},
   "outputs": [],
   "source": [
    "def fn4d(x: float, y: float, z: float, w: float) -> float:\n",
    "\n",
    "    return np.exp(np.sin(x) + np.cos(y) - np.pow(z, 2) + np.exp(w))\n",
    "\n",
    "\n",
    "def fn4d_prime(x: float, y: float, z: float, w: float) -> np.ndarray:\n",
    "    partial_x = np.cos(x) * np.exp(np.sin(x) + np.cos(y) - np.pow(z, 2) + np.exp(w))\n",
    "    partial_y = np.sin(y) * np.exp(np.sin(x) + np.cos(y) - np.pow(z, 2) + np.exp(w))\n",
    "    partial_z = -2 * z * np.exp(np.sin(x) + np.cos(y) - np.pow(z, 2) + np.exp(w))\n",
    "    partial_w = np.exp(np.sin(x) + np.cos(y) - np.pow(z, 2) + np.exp(w))\n",
    "\n",
    "    return np.array([[partial_x], [partial_y], [partial_z], [partial_w]], ndmin=2)"
   ]
  },
  {
   "cell_type": "markdown",
   "metadata": {},
   "source": [
    "#### 4.2 Gradient descent process"
   ]
  },
  {
   "cell_type": "code",
   "execution_count": null,
   "metadata": {},
   "outputs": [],
   "source": [
    "# Parameters\n",
    "x4d = 0.1  # Startpunkt\n",
    "y4d = -2.7\n",
    "z4d = 1.0\n",
    "w4d = -1.0\n",
    "lr = 1e-2  # Schrittgröße\n",
    "significant_gradient_4d = 1e-2\n",
    "# num_rep_2d = 10\n",
    "change_4d = True\n",
    "i = 1\n",
    "iters4d = []\n",
    "values4d = []\n",
    "\n",
    "while change_4d is True:\n",
    "    grad_xyzw = fn4d_prime(x4d, y4d, z4d, w4d)\n",
    "    if np.mean(np.fabs(grad_xyzw)) >= significant_gradient_4d:\n",
    "        iters4d.append(i)\n",
    "        values4d.append(fn4d(x4d, y4d, z4d, w4d))\n",
    "        x4d = x4d - lr * grad_xyzw[0, 0]\n",
    "        y4d = y4d - lr * grad_xyzw[1, 0]\n",
    "        z4d = z4d - lr * grad_xyzw[2, 0]\n",
    "        w4d = w4d - lr * grad_xyzw[3, 0]\n",
    "        (\n",
    "            print(f\"Iteraton: {i}, Funktionswert: {fn4d(x4d, y4d, z4d, w4d)}\")\n",
    "            if i % 100 == 0\n",
    "            else None\n",
    "        )\n",
    "    else:\n",
    "        change_4d = False\n",
    "    i += 1\n",
    "print(f\"Letzte Iteration: {i}, finaler Funktionswert: {fn4d(x4d, y4d, z4d, w4d)}\")"
   ]
  },
  {
   "cell_type": "markdown",
   "metadata": {},
   "source": [
    "#### 4.3 Plot Funktionswerte"
   ]
  },
  {
   "cell_type": "code",
   "execution_count": null,
   "metadata": {},
   "outputs": [],
   "source": [
    "fig = go.Figure(data=[go.Scatter(x=iters4d, y=values4d, mode=\"lines\")])\n",
    "\n",
    "fig.show()"
   ]
  }
 ],
 "metadata": {
  "kernelspec": {
   "display_name": "diy-mnist-nn-ZXZBkNkJ-py3.10",
   "language": "python",
   "name": "python3"
  },
  "language_info": {
   "codemirror_mode": {
    "name": "ipython",
    "version": 3
   },
   "file_extension": ".py",
   "mimetype": "text/x-python",
   "name": "python",
   "nbconvert_exporter": "python",
   "pygments_lexer": "ipython3",
   "version": "3.10.12"
  }
 },
 "nbformat": 4,
 "nbformat_minor": 2
}
