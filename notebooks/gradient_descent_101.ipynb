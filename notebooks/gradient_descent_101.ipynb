{
 "cells": [
  {
   "cell_type": "markdown",
   "metadata": {},
   "source": [
    "# Code"
   ]
  },
  {
   "cell_type": "markdown",
   "metadata": {},
   "source": [
    "## 0. Imports"
   ]
  },
  {
   "cell_type": "code",
   "execution_count": null,
   "metadata": {},
   "outputs": [],
   "source": [
    "%load_ext autoreload\n",
    "%autoreload all\n",
    "\n",
    "import numpy as np\n",
    "import plotly.graph_objects as go\n",
    "import plotly.io as pio"
   ]
  },
  {
   "cell_type": "markdown",
   "metadata": {},
   "source": [
    "## 1. Gradientenverfahren 1D"
   ]
  },
  {
   "cell_type": "markdown",
   "metadata": {},
   "source": [
    "### 1.0 Algorithmus"
   ]
  },
  {
   "cell_type": "markdown",
   "metadata": {},
   "source": [
    "#### 1.0.1 Define function and the derivative"
   ]
  },
  {
   "cell_type": "code",
   "execution_count": null,
   "metadata": {},
   "outputs": [],
   "source": [
    "# Funktion definieren\n",
    "def fn1d(x: float) -> float:\n",
    "    return x**5 - 3 * x**3 + x**2 + 2\n",
    "\n",
    "\n",
    "# Händisch Ableitung bestimmen\n",
    "def fn1d_prime(x: float) -> float:\n",
    "    return 5 * x**4 - 9 * x**2 + 2 * x"
   ]
  },
  {
   "cell_type": "markdown",
   "metadata": {},
   "source": [
    "#### 1.0.2 Gradient Descent block"
   ]
  },
  {
   "cell_type": "code",
   "execution_count": null,
   "metadata": {},
   "outputs": [],
   "source": [
    "# Lokales Minimum finden mit Gradientenverfahren\n",
    "# Parameters\n",
    "x_start_d1 = 2.3  # Startpunkt\n",
    "xmin = -(np.fabs(x_start_d1) + 1.0)  # borders of the axis\n",
    "xmax = np.fabs(x_start_d1) + 1.0\n",
    "lr = 1e-3  # Schrittgröße (aka. Learning Rate) -> smaller values lead to an increase in accuracy\n",
    "significant_gradient = 1e-3\n",
    "ys = []\n",
    "xs = []\n",
    "\n",
    "while True:  # loop as long as there is a significant on average\n",
    "    grad = fn1d_prime(x_start_d1)\n",
    "    if grad >= significant_gradient:\n",
    "        ys.append(fn1d(x_start_d1))\n",
    "        xs.append(x_start_d1)\n",
    "        x_start_d1 = x_start_d1 - lr * grad  # optimize\n",
    "    else:\n",
    "        break"
   ]
  },
  {
   "cell_type": "markdown",
   "metadata": {},
   "source": [
    "### 1.1 Plots"
   ]
  },
  {
   "cell_type": "markdown",
   "metadata": {},
   "source": [
    "#### 1.1.1 Plot the Function"
   ]
  },
  {
   "cell_type": "code",
   "execution_count": null,
   "metadata": {},
   "outputs": [],
   "source": [
    "# define range and values\n",
    "x = np.arange(xmin, xmax, 0.01)\n",
    "y = [fn1d(val) for val in x]\n",
    "y_deriv = [fn1d_prime(val) for val in x]\n",
    "\n",
    "fig = go.Figure(\n",
    "    data=[\n",
    "        go.Scatter(x=x, y=y, mode=\"lines\"),\n",
    "        go.Scatter(x=x, y=y_deriv, mode=\"lines\"),\n",
    "    ]\n",
    ")\n",
    "\n",
    "fig.update_layout(width=1200, height=800)\n",
    "\n",
    "fig.show()"
   ]
  },
  {
   "cell_type": "markdown",
   "metadata": {},
   "source": [
    "#### 1.1.2 Animate the process of Gradient descent "
   ]
  },
  {
   "cell_type": "code",
   "execution_count": null,
   "metadata": {},
   "outputs": [],
   "source": [
    "# define the range and the values\n",
    "x = np.arange(xmin, xmax, 0.01)\n",
    "y = [fn1d(val) for val in x]\n",
    "\n",
    "# initialize the plot and the markers for gradient descent\n",
    "fig = go.Figure(\n",
    "    data=[\n",
    "        go.Scatter(\n",
    "            x=x,\n",
    "            y=y,\n",
    "            mode=\"lines\",\n",
    "            line=dict(color=\"green\", width=1),\n",
    "        ),\n",
    "        go.Scatter(\n",
    "            x=[xs[0]],\n",
    "            y=[ys[0]],\n",
    "            mode=\"markers\",\n",
    "            marker=dict(color=\"red\", size=10),\n",
    "        ),\n",
    "    ]\n",
    ")\n",
    "\n",
    "# update layout parameters and add start button for animation\n",
    "fig.update_layout(\n",
    "    width=1200,\n",
    "    height=800,\n",
    "    xaxis=dict(range=(np.min(x) - 1, np.max(x) + 1), autorange=False, zeroline=False),\n",
    "    yaxis=dict(range=(np.min(y) - 1, np.max(y) + 1), autorange=False, zeroline=False),\n",
    "    title_text=\"2D Gradient Descent Animation\",\n",
    "    # start button config\n",
    "    updatemenus=[\n",
    "        dict(\n",
    "            type=\"buttons\",\n",
    "            buttons=[\n",
    "                dict(\n",
    "                    args=[\n",
    "                        None,\n",
    "                        {\n",
    "                            \"frame\": {\"duration\": 50, \"redraw\": False},\n",
    "                            \"fromcurrent\": True,\n",
    "                            \"transition\": {\"duration\": 10, \"easing\": \"linear\"},\n",
    "                        },\n",
    "                    ],\n",
    "                    label=\"start\",\n",
    "                    method=\"animate\",\n",
    "                )\n",
    "            ],\n",
    "        )\n",
    "    ],\n",
    ")\n",
    "\n",
    "# specify the animation frames\n",
    "fig.update(\n",
    "    frames=[\n",
    "        go.Frame(data=[go.Scatter(x=[xs[k]], y=[ys[k]])], traces=[1])\n",
    "        for k in range(len(ys))\n",
    "    ]\n",
    ")\n",
    "\n",
    "# show result\n",
    "fig.show()"
   ]
  },
  {
   "cell_type": "markdown",
   "metadata": {},
   "source": [
    "## 2. Gradientenverfahren 2D"
   ]
  },
  {
   "cell_type": "markdown",
   "metadata": {},
   "source": [
    "### 2.0 Algorithmus"
   ]
  },
  {
   "cell_type": "markdown",
   "metadata": {},
   "source": [
    "#### 2.0.1 Define function and derivative"
   ]
  },
  {
   "cell_type": "code",
   "execution_count": null,
   "metadata": {},
   "outputs": [],
   "source": [
    "# Funktion definieren\n",
    "def fn2d_old(x: float, y: float) -> float:\n",
    "    return np.sin(np.pow(x, 2) + np.pow(y, 2))\n",
    "\n",
    "\n",
    "def fn2d_prime_old(x: float, y: float) -> np.ndarray:  # gibt 2D Array zurück\n",
    "    partial_x = (\n",
    "        2 * x * np.cos(np.pow(x, 2) + np.pow(y, 2))\n",
    "    )  # leite f nach x ab, lass y konstant\n",
    "    partial_y = (\n",
    "        2 * y * np.cos(np.pow(x, 2) + np.pow(y, 2))\n",
    "    )  # leite f nach y ab, lass x konstant\n",
    "    return np.array([[partial_x], [partial_y]], ndmin=2)"
   ]
  },
  {
   "cell_type": "markdown",
   "metadata": {},
   "source": [
    "$\\dot{f}_{2d} = 0$ für $x = y = 0$"
   ]
  },
  {
   "cell_type": "markdown",
   "metadata": {},
   "source": [
    "#### 2.0.2 Gradient Descent block\n"
   ]
  },
  {
   "cell_type": "code",
   "execution_count": null,
   "metadata": {},
   "outputs": [],
   "source": [
    "# Lokales Minimum finden mit Gradientenverfahren\n",
    "# Parameters\n",
    "x_start = 0.1  # Startpunkt\n",
    "y_start = -2.7\n",
    "# define axis length of the plot\n",
    "xy_min = np.negative((np.fabs(x_start) + np.fabs(y_start) + 1.0))\n",
    "xy_max = np.fabs(x_start) + np.fabs(y_start) + 1.0\n",
    "lr = 1e-2  # Schrittgröße\n",
    "significant_gradient_2d = 1e-3\n",
    "xs_2d = [x_start]\n",
    "ys_2d = [y_start]\n",
    "zs_2d = [fn2d_old(x_start, y_start)]\n",
    "\n",
    "# same algorithm as in 1 dimensional gradient\n",
    "while True:\n",
    "    grad_xy = fn2d_prime_old(x_start, y_start)\n",
    "    if np.mean(np.fabs(grad_xy)) >= significant_gradient_2d:\n",
    "        x_start = x_start - lr * grad_xy[0, 0]\n",
    "        y_start = y_start - lr * grad_xy[1, 0]\n",
    "        zs_2d.append(fn2d_old(x_start, y_start))\n",
    "        xs_2d.append(x_start)\n",
    "        ys_2d.append(y_start)\n",
    "    else:\n",
    "        break\n",
    "\n",
    "print(x_start, y_start)"
   ]
  },
  {
   "cell_type": "markdown",
   "metadata": {},
   "source": [
    "### 2.1 Plots"
   ]
  },
  {
   "cell_type": "markdown",
   "metadata": {},
   "source": [
    "#### 2.1.1 Plot the Surface"
   ]
  },
  {
   "cell_type": "code",
   "execution_count": null,
   "metadata": {},
   "outputs": [],
   "source": [
    "# pass this argument to make sure the output is rendering in your notebook\n",
    "pio.renderers.default = \"notebook\""
   ]
  },
  {
   "cell_type": "code",
   "execution_count": null,
   "metadata": {},
   "outputs": [],
   "source": [
    "# define range and meshgrid to let numpy handle the iteration through the arrays\n",
    "r2 = np.arange(xy_min, xy_max, 0.1)\n",
    "x2, y2 = np.meshgrid(r2, r2)\n",
    "\n",
    "# calculate the corresponding values of the function\n",
    "vals = fn2d_old(x2, y2)\n",
    "\n",
    "# initialize the figure of the plot with the data\n",
    "fig2 = go.Figure(\n",
    "    data=[\n",
    "        go.Surface(\n",
    "            z=vals,\n",
    "            x=x2,\n",
    "            y=y2,\n",
    "            colorscale=\"ice\",\n",
    "            showscale=False,\n",
    "        )\n",
    "    ]\n",
    ")\n",
    "\n",
    "# update layout\n",
    "fig2.update_layout(\n",
    "    title=\"Surface Plot Funktion\",\n",
    "    scene=dict(\n",
    "        xaxis=dict(\n",
    "            range=(np.min(x2) - 1, np.max(x2) + 1), autorange=False, zeroline=False\n",
    "        ),\n",
    "        yaxis=dict(\n",
    "            range=(np.min(y2) - 1, np.max(y2) + 1), autorange=False, zeroline=False\n",
    "        ),\n",
    "        zaxis=dict(\n",
    "            range=(np.min(vals) - 0.5, np.max(vals) + 0.5),\n",
    "            autorange=False,\n",
    "            zeroline=False,\n",
    "        ),\n",
    "    ),\n",
    "    autosize=False,\n",
    "    width=1200,\n",
    "    height=600,\n",
    ")\n",
    "\n",
    "# show result\n",
    "fig2.show()"
   ]
  },
  {
   "cell_type": "markdown",
   "metadata": {},
   "source": [
    "#### 2.1.2 Plot the process of Gradient Descent"
   ]
  },
  {
   "cell_type": "code",
   "execution_count": null,
   "metadata": {},
   "outputs": [],
   "source": [
    "# define range, meshgrid and values\n",
    "r = np.arange(xy_min, xy_max, 0.1)\n",
    "x, y = np.meshgrid(r, r)\n",
    "\n",
    "vals_animation = fn2d_old(x, y)\n",
    "\n",
    "# initialize figure with Surface plot and markers\n",
    "fig = go.Figure(\n",
    "    data=[\n",
    "        go.Surface(\n",
    "            z=vals_animation,\n",
    "            x=x,\n",
    "            y=y,\n",
    "            opacity=0.5,\n",
    "            colorscale=\"ice\",\n",
    "            name=\"Function Plot\",\n",
    "            showscale=False,\n",
    "        ),\n",
    "        go.Scatter3d(\n",
    "            x=[xs_2d[0]],\n",
    "            y=[ys_2d[0]],\n",
    "            z=[zs_2d[0]],\n",
    "            mode=\"markers\",\n",
    "            name=\"Current descent\",\n",
    "            marker=dict(color=\"darkred\", size=5),\n",
    "        ),\n",
    "    ],\n",
    ")\n",
    "\n",
    "# configure layout\n",
    "fig.update_layout(\n",
    "    # define range of the different axes\n",
    "    scene=dict(\n",
    "        xaxis=dict(\n",
    "            range=(np.min(x) - 0.5, np.max(x) + 0.5), autorange=False, zeroline=False\n",
    "        ),\n",
    "        yaxis=dict(\n",
    "            range=(np.min(y) - 0.5, np.max(y) + 0.5), autorange=False, zeroline=False\n",
    "        ),\n",
    "        zaxis=dict(\n",
    "            range=(np.min(vals_animation) - 0.5, np.max(vals_animation) + 0.5),\n",
    "            autorange=False,\n",
    "            zeroline=False,\n",
    "        ),\n",
    "    ),\n",
    "    width=1200,\n",
    "    height=800,\n",
    "    title_text=\"3D Gradient Descent Animation\",\n",
    "    # animation configuration -> redraw needs to be true\n",
    "    updatemenus=[\n",
    "        dict(\n",
    "            type=\"buttons\",\n",
    "            buttons=[\n",
    "                dict(\n",
    "                    args=[\n",
    "                        None,\n",
    "                        {\n",
    "                            \"frame\": {\"duration\": 50, \"redraw\": True},\n",
    "                            \"mode\": \"immediate\",\n",
    "                            \"fromcurrent\": True,\n",
    "                            \"transition\": {\"duration\": 0, \"easing\": \"linear\"},\n",
    "                        },\n",
    "                    ],\n",
    "                    label=\"start\",\n",
    "                    method=\"animate\",\n",
    "                )\n",
    "            ],\n",
    "        )\n",
    "    ],\n",
    ")\n",
    "\n",
    "# handle animation frames\n",
    "fig.update(\n",
    "    frames=[\n",
    "        go.Frame(\n",
    "            data=[go.Scatter3d(x=[xs_2d[k]], y=[ys_2d[k]], z=[zs_2d[k]])], traces=[1]\n",
    "        )\n",
    "        for k in range(len(zs_2d))\n",
    "    ]\n",
    ")\n",
    "\n",
    "# output the figure\n",
    "fig.show()"
   ]
  },
  {
   "cell_type": "markdown",
   "metadata": {},
   "source": [
    "### 2.2 Komponentenlose Variante"
   ]
  },
  {
   "cell_type": "markdown",
   "metadata": {},
   "source": [
    "#### 2.2.1 Funktions- und Ableitungsdefinition"
   ]
  },
  {
   "cell_type": "code",
   "execution_count": null,
   "metadata": {},
   "outputs": [],
   "source": [
    "# Funktion definieren\n",
    "def fn2d(x: np.ndarray) -> np.float64:  # x of shape (2, 1)\n",
    "\n",
    "    return np.sin(np.sum(x**2))\n",
    "\n",
    "\n",
    "def fn2d_prime(x: np.ndarray) -> np.ndarray:  # gibt 2D Array zurück\n",
    "\n",
    "    f_prime = 2 * x * np.cos(np.sum(x**2))\n",
    "\n",
    "    return f_prime"
   ]
  },
  {
   "cell_type": "markdown",
   "metadata": {},
   "source": [
    "#### 2.2.2 Gradient descent Prozess"
   ]
  },
  {
   "cell_type": "code",
   "execution_count": null,
   "metadata": {},
   "outputs": [],
   "source": [
    "# Lokales Minimum finden mit Gradientenverfahren\n",
    "# Parameters\n",
    "xy_start = np.array(([0.1], [-2.7]), ndmin=2)  # Startpunkt\n",
    "\n",
    "# define axis length of the plot\n",
    "xy_min = np.negative((np.fabs(xy_start[0]) + np.fabs(xy_start[1]) + 1.0))\n",
    "xy_max = np.fabs(xy_start[0]) + np.fabs(xy_start[1]) + 1.0\n",
    "lr = 1e-2  # Schrittgröße\n",
    "significant_gradient_2d = 1e-3\n",
    "\n",
    "# same algorithm as in 1 dimensional gradient\n",
    "while True:\n",
    "    grad_xy = fn2d_prime(xy_start)\n",
    "    if np.mean(np.fabs(grad_xy)) >= significant_gradient_2d:\n",
    "        xy_start = xy_start - lr * grad_xy\n",
    "    else:\n",
    "        break\n",
    "\n",
    "print(xy_start)"
   ]
  },
  {
   "cell_type": "code",
   "execution_count": null,
   "metadata": {},
   "outputs": [],
   "source": [
    "# define range and meshgrid to let numpy handle the iteration through the arrays\n",
    "r2 = np.arange(xy_min, xy_max, 0.1)\n",
    "x2 = np.meshgrid(r2, r2)\n",
    "\n",
    "# calculate the corresponding values of the function\n",
    "vals = fn2d(x2)\n",
    "\n",
    "# initialize the figure of the plot with the data\n",
    "fig2 = go.Figure(\n",
    "    data=[\n",
    "        go.Surface(\n",
    "            z=vals,\n",
    "            x=x2[0],\n",
    "            y=x2[1],\n",
    "            colorscale=\"ice\",\n",
    "            showscale=False,\n",
    "        )\n",
    "    ]\n",
    ")\n",
    "\n",
    "# update layout\n",
    "fig2.update_layout(\n",
    "    title=\"Surface Plot Funktion\",\n",
    "    scene=dict(\n",
    "        xaxis=dict(\n",
    "            range=(np.min(x2[0]) - 1, np.max(x2[0]) + 1),\n",
    "            autorange=False,\n",
    "            zeroline=False,\n",
    "        ),\n",
    "        yaxis=dict(\n",
    "            range=(np.min(x2[1]) - 1, np.max(x2[1]) + 1),\n",
    "            autorange=False,\n",
    "            zeroline=False,\n",
    "        ),\n",
    "        zaxis=dict(\n",
    "            range=(np.min(vals) - 0.5, np.max(vals) + 0.5),\n",
    "            autorange=False,\n",
    "            zeroline=False,\n",
    "        ),\n",
    "    ),\n",
    "    autosize=False,\n",
    "    width=1200,\n",
    "    height=600,\n",
    ")\n",
    "\n",
    "# show result\n",
    "fig2.show()"
   ]
  },
  {
   "cell_type": "markdown",
   "metadata": {},
   "source": [
    "## 3. Gradientenverfahren 3D"
   ]
  },
  {
   "cell_type": "markdown",
   "metadata": {},
   "source": [
    "### 3.1 Define function and derivative"
   ]
  },
  {
   "cell_type": "code",
   "execution_count": null,
   "metadata": {},
   "outputs": [],
   "source": [
    "# TODO: Komponentenschreibweise ersetzen, Dimensionalität der einzelnen Arrays durchgehen\n",
    "def fn3d_old(x: float, y: float, z: float) -> float:\n",
    "\n",
    "    return np.sin(np.exp(x) + np.exp(y) - np.cos(z))\n",
    "\n",
    "\n",
    "def fn3d_prime_old(x: float, y: float, z: float) -> np.ndarray:\n",
    "    partial_x = np.exp(x) * np.cos(np.exp(x) + np.exp(y) - np.cos(z))\n",
    "    partial_y = np.exp(y) * np.cos(np.exp(x) + np.exp(y) - np.cos(z))\n",
    "    partial_z = np.sin(z) * np.cos(np.exp(x) + np.exp(y) - np.cos(z))\n",
    "\n",
    "    return np.array([[partial_x], [partial_y], [partial_z]], ndmin=2)"
   ]
  },
  {
   "cell_type": "markdown",
   "metadata": {},
   "source": [
    "### 3.2 Gradient descent process"
   ]
  },
  {
   "cell_type": "code",
   "execution_count": null,
   "metadata": {},
   "outputs": [],
   "source": [
    "# Parameters\n",
    "x3d = 0.1  # Startpunkt\n",
    "y3d = -1.7\n",
    "z3d = 1.0\n",
    "lr = 1e-1  # Schrittgröße\n",
    "significant_gradient_3d = 1e-3\n",
    "i = 0\n",
    "iters3d = []\n",
    "values3d = [fn3d_old(x3d, y3d, z3d)]\n",
    "\n",
    "while True:\n",
    "    grad_xyz = fn3d_prime_old(x3d, y3d, z3d)\n",
    "    if np.mean(np.fabs(grad_xyz)) >= significant_gradient_3d:\n",
    "        x3d = x3d - (lr * grad_xyz[0, 0])\n",
    "        y3d = y3d - (lr * grad_xyz[1, 0])\n",
    "        z3d = z3d - (lr * grad_xyz[2, 0])\n",
    "        iters3d.append(i + 1) if i % 10 == 0 else None\n",
    "        values3d.append(fn3d_old(x3d, y3d, z3d)) if i % 10 == 0 else None\n",
    "\n",
    "        # Print process\n",
    "        (\n",
    "            print(f\"Iteration: {i+1}, Funktionswert: {fn3d_old(x3d, y3d, z3d)}\")\n",
    "            if i % 1000 == 0\n",
    "            else None\n",
    "        )\n",
    "    else:\n",
    "        break\n",
    "    i += 1\n",
    "\n",
    "iters3d.append(i + 1)\n",
    "values3d.append(fn3d_old(x3d, y3d, z3d))\n",
    "print(f\"Letzte Iteration: {i+1}, finaler Funktionswert: {fn3d_old(x3d, y3d, z3d)}\")"
   ]
  },
  {
   "cell_type": "markdown",
   "metadata": {},
   "source": [
    "### 3.3 Plot Funktionswerte"
   ]
  },
  {
   "cell_type": "code",
   "execution_count": null,
   "metadata": {},
   "outputs": [],
   "source": [
    "# TODO: x-Achse logarithmisch plotten\n",
    "fig = go.Figure(data=[go.Scatter(x=iters3d, y=values3d, mode=\"markers\")])\n",
    "\n",
    "fig.update_layout(width=1200, height=800, xaxis_type=\"log\")\n",
    "\n",
    "fig.show()"
   ]
  },
  {
   "cell_type": "markdown",
   "metadata": {},
   "source": [
    "### 3.4 Komponentenlose Implementierung"
   ]
  },
  {
   "cell_type": "code",
   "execution_count": null,
   "metadata": {},
   "outputs": [],
   "source": [
    "# TODO: Komponentenschreibweise ersetzen, Dimensionalität der einzelnen Arrays durchgehen\n",
    "def fn3d(x: np.ndarray) -> float:  # x of shape (3, 1)\n",
    "\n",
    "    return np.sin(np.exp(x[0]) + np.exp(x[1]) - np.cos(x[2]))\n",
    "\n",
    "\n",
    "def fn3d_prime(x: np.ndarray) -> np.ndarray:\n",
    "    partial_x = np.exp(x[0]) * np.cos(np.exp(x[0]) + np.exp(x[1]) - np.cos(x[2]))\n",
    "    partial_y = np.exp(x[1]) * np.cos(np.exp(x[0]) + np.exp(x[1]) - np.cos(x[2]))\n",
    "    partial_z = np.sin(x[2]) * np.cos(np.exp(x[0]) + np.exp(x[1]) - np.cos(x[2]))\n",
    "\n",
    "    return np.array((partial_x, partial_y, partial_z), ndmin=2)"
   ]
  },
  {
   "cell_type": "code",
   "execution_count": null,
   "metadata": {},
   "outputs": [],
   "source": [
    "# Parameters\n",
    "start_xyz = np.array(([0.1], [-1.7], [1.0]), ndmin=2)  # Startpunkt\n",
    "lr = 1e-1  # Schrittgröße\n",
    "significant_gradient_3d = 1e-3\n",
    "i = 0\n",
    "\n",
    "while True:\n",
    "    grad_xyz = fn3d_prime(start_xyz)\n",
    "    if np.mean(np.fabs(grad_xyz)) >= significant_gradient_3d:\n",
    "        start_xyz = start_xyz - (lr * grad_xyz)\n",
    "\n",
    "        # Print process\n",
    "        (\n",
    "            print(f\"Iteration: {i+1}, Funktionswert: {fn3d(start_xyz)}\")\n",
    "            if i % 100 == 0\n",
    "            else None\n",
    "        )\n",
    "    else:\n",
    "        break\n",
    "    i += 1\n",
    "\n",
    "print(f\"Letzte Iteration: {i+1}, finaler Funktionswert: {fn3d(start_xyz)}\")"
   ]
  },
  {
   "cell_type": "markdown",
   "metadata": {},
   "source": [
    "## 4. Gradientenverfahren 4D"
   ]
  },
  {
   "cell_type": "markdown",
   "metadata": {},
   "source": [
    "### 4.1 Define function and derivative"
   ]
  },
  {
   "cell_type": "code",
   "execution_count": null,
   "metadata": {},
   "outputs": [],
   "source": [
    "def fn4d_old(x: float, y: float, z: float, w: float) -> float:\n",
    "\n",
    "    return np.exp(np.sin(x) + np.cos(y) - np.pow(z, 2) + np.exp(w))\n",
    "\n",
    "\n",
    "def fn4d_prime_old(x: float, y: float, z: float, w: float) -> np.ndarray:\n",
    "    partial_x = np.cos(x) * np.exp(np.sin(x) + np.cos(y) - np.pow(z, 2) + np.exp(w))\n",
    "    partial_y = np.sin(y) * np.exp(np.sin(x) + np.cos(y) - np.pow(z, 2) + np.exp(w))\n",
    "    partial_z = -2 * z * np.exp(np.sin(x) + np.cos(y) - np.pow(z, 2) + np.exp(w))\n",
    "    partial_w = np.exp(np.sin(x) + np.cos(y) - np.pow(z, 2) + np.exp(w))\n",
    "\n",
    "    return np.array([[partial_x], [partial_y], [partial_z], [partial_w]], ndmin=2)"
   ]
  },
  {
   "cell_type": "markdown",
   "metadata": {},
   "source": [
    "### 4.2 Gradient descent process"
   ]
  },
  {
   "cell_type": "code",
   "execution_count": null,
   "metadata": {},
   "outputs": [],
   "source": [
    "# Parameters\n",
    "x4d = 0.1  # Startpunkt\n",
    "y4d = -2.7\n",
    "z4d = 1.0\n",
    "w4d = -1.0\n",
    "lr = 1e-2  # Schrittgröße\n",
    "significant_gradient_4d = 1e-2\n",
    "# num_rep_2d = 10\n",
    "change_4d = True\n",
    "i = 0\n",
    "iters4d = []\n",
    "values4d = [fn4d_old(x4d, y4d, z4d, w4d)]\n",
    "\n",
    "while change_4d is True:\n",
    "    grad_xyzw = fn4d_prime_old(x4d, y4d, z4d, w4d)\n",
    "    if np.mean(np.fabs(grad_xyzw)) >= significant_gradient_4d:\n",
    "        iters4d.append(i + 1) if i % 10 == 0 else None\n",
    "        values4d.append(fn4d_old(x4d, y4d, z4d, w4d)) if i % 10 == 0 else None\n",
    "        x4d = x4d - lr * grad_xyzw[0, 0]\n",
    "        y4d = y4d - lr * grad_xyzw[1, 0]\n",
    "        z4d = z4d - lr * grad_xyzw[2, 0]\n",
    "        w4d = w4d - lr * grad_xyzw[3, 0]\n",
    "        (\n",
    "            print(f\"Iteraton: {i+1}, Funktionswert: {fn4d_old(x4d, y4d, z4d, w4d)}\")\n",
    "            if i % 100 == 0\n",
    "            else None\n",
    "        )\n",
    "    else:\n",
    "        change_4d = False\n",
    "    i += 1\n",
    "print(f\"Letzte Iteration: {i+1}, finaler Funktionswert: {fn4d_old(x4d, y4d, z4d, w4d)}\")\n",
    "iters4d.append(i + 1)\n",
    "values4d.append(fn4d_old(x4d, y4d, z4d, w4d))"
   ]
  },
  {
   "cell_type": "markdown",
   "metadata": {},
   "source": [
    "### 4.3 Plot Funktionswerte"
   ]
  },
  {
   "cell_type": "code",
   "execution_count": null,
   "metadata": {},
   "outputs": [],
   "source": [
    "fig = go.Figure(data=[go.Scatter(x=iters4d, y=values4d, mode=\"markers\")])\n",
    "\n",
    "fig.update_layout(width=1200, height=800)\n",
    "\n",
    "fig.show()"
   ]
  },
  {
   "cell_type": "markdown",
   "metadata": {},
   "source": [
    "### 4.4 Komponentenlose Vaiante"
   ]
  },
  {
   "cell_type": "code",
   "execution_count": null,
   "metadata": {},
   "outputs": [],
   "source": [
    "def fn4d(x: np.ndarray) -> float:  # x of shape (4, 1)\n",
    "\n",
    "    return np.exp(np.sin(x[0]) + np.cos(x[1]) - np.pow(x[2], 2) + np.exp(x[3]))\n",
    "\n",
    "\n",
    "def fn4d_prime(x: np.ndarray) -> np.ndarray:\n",
    "    partial_x = np.cos(x[0]) * np.exp(\n",
    "        np.sin(x[0]) + np.cos(x[1]) - np.pow(x[2], 2) + np.exp(x[3])\n",
    "    )\n",
    "    partial_y = np.sin(x[1]) * np.exp(\n",
    "        np.sin(x[0]) + np.cos(x[1]) - np.pow(x[2], 2) + np.exp(x[3])\n",
    "    )\n",
    "    partial_z = (\n",
    "        -2 * x[2] * np.exp(np.sin(x[0]) + np.cos(x[1]) - np.pow(x[2], 2) + np.exp(x[3]))\n",
    "    )\n",
    "    partial_w = np.exp(np.sin(x[0]) + np.cos(x[1]) - np.pow(x[2], 2) + np.exp(x[3]))\n",
    "\n",
    "    return np.array((partial_x, partial_y, partial_z, partial_w), ndmin=2)"
   ]
  },
  {
   "cell_type": "code",
   "execution_count": null,
   "metadata": {},
   "outputs": [],
   "source": [
    "# Parameters\n",
    "start_xyzw = np.array(([0.1], [-2.7], [1.0], [-1.0]), ndmin=2)  # Startpunkt\n",
    "\n",
    "lr = 1e-2  # Schrittgröße\n",
    "significant_gradient_4d = 1e-2\n",
    "i = 1\n",
    "\n",
    "while True:\n",
    "    grad_xyzw = fn4d_prime(start_xyzw)\n",
    "    if np.mean(np.fabs(grad_xyzw)) >= significant_gradient_4d:\n",
    "\n",
    "        start_xyzw = start_xyzw - lr * grad_xyzw\n",
    "        (\n",
    "            print(f\"Iteraton: {i}, Funktionswert: {fn4d(start_xyzw)}\")\n",
    "            if i % 100 == 0\n",
    "            else None\n",
    "        )\n",
    "    else:\n",
    "        break\n",
    "    i += 1\n",
    "print(f\"Letzte Iteration: {i}, finaler Funktionswert: {fn4d(start_xyzw)}\")"
   ]
  }
 ],
 "metadata": {
  "kernelspec": {
   "display_name": "diy-mnist-nn-ZXZBkNkJ-py3.10",
   "language": "python",
   "name": "python3"
  },
  "language_info": {
   "codemirror_mode": {
    "name": "ipython",
    "version": 3
   },
   "file_extension": ".py",
   "mimetype": "text/x-python",
   "name": "python",
   "nbconvert_exporter": "python",
   "pygments_lexer": "ipython3",
   "version": "3.10.12"
  }
 },
 "nbformat": 4,
 "nbformat_minor": 2
}
