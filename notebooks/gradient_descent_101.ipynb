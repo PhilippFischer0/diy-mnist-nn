{
 "cells": [
  {
   "cell_type": "markdown",
   "metadata": {},
   "source": [
    "# Imports"
   ]
  },
  {
   "cell_type": "code",
   "execution_count": 17,
   "metadata": {},
   "outputs": [],
   "source": [
    "import numpy as np\n",
    "import plotly.graph_objects as go\n",
    "import plotly.express as px\n",
    "import pandas as pd"
   ]
  },
  {
   "cell_type": "markdown",
   "metadata": {},
   "source": [
    "# Gradientenverfahren 1D"
   ]
  },
  {
   "cell_type": "markdown",
   "metadata": {},
   "source": [
    "#### Define function and the derivative"
   ]
  },
  {
   "cell_type": "code",
   "execution_count": 18,
   "metadata": {},
   "outputs": [],
   "source": [
    "# Funktion definieren\n",
    "def fn1d(x: float) -> float:\n",
    "    return x**5 - 3 * x**3 + x**2 + 2\n",
    "\n",
    "\n",
    "# Händisch Ableitung bestimmen\n",
    "def fn1d_prime(x: float) -> float:\n",
    "    return 5 * x**4 - 9 * x**2 + 2 * x"
   ]
  },
  {
   "cell_type": "markdown",
   "metadata": {},
   "source": [
    "#### Gradient descent"
   ]
  },
  {
   "cell_type": "code",
   "execution_count": 19,
   "metadata": {},
   "outputs": [],
   "source": [
    "# Lokales Minimum finden mit Gradientenverfahren\n",
    "x_start_d1 = 2  # Startpunkt\n",
    "lr = 1e-2  # Schrittgröße (aka. Learning Rate)\n",
    "num_rep_1d = 10\n",
    "grad_diff = fn1d_prime(x_start_d1)\n",
    "change_1d = True\n",
    "ys = []\n",
    "xs = []\n",
    "while change_1d is True:\n",
    "    for i in range(num_rep_1d):\n",
    "        if np.absolute(grad_diff / (i + 1)) >= 1e-1:\n",
    "            grad = fn1d_prime(x_start_d1)\n",
    "            grad_diff += grad\n",
    "            ys.append(fn1d(x_start_d1))\n",
    "            xs.append(x_start_d1)\n",
    "            x_start_d1 = x_start_d1 - lr * grad  # optimize\n",
    "        else:\n",
    "            change_1d = False\n",
    "    grad_diff = grad"
   ]
  },
  {
   "cell_type": "markdown",
   "metadata": {},
   "source": [
    "# Plot the Function"
   ]
  },
  {
   "cell_type": "code",
   "execution_count": null,
   "metadata": {},
   "outputs": [],
   "source": [
    "xmin = -2\n",
    "xmax = 2\n",
    "x = np.arange(xmin, xmax, 0.01)\n",
    "y = [fn1d(val) for val in x]\n",
    "\n",
    "df = pd.DataFrame(dict(x=x, y=y))\n",
    "fig = px.line(df, x=\"x\", y=\"y\", title=\"1-dimensional Graph\")\n",
    "\n",
    "fig.show()"
   ]
  },
  {
   "cell_type": "markdown",
   "metadata": {},
   "source": [
    "# Animate the process of Gradient descent "
   ]
  },
  {
   "cell_type": "code",
   "execution_count": null,
   "metadata": {},
   "outputs": [],
   "source": [
    "x = np.arange(xmin, xmax, 0.01)\n",
    "y = [fn1d(val) for val in x]\n",
    "\n",
    "fig = go.Figure(\n",
    "    data=[\n",
    "        go.Scatter(\n",
    "            x=x,\n",
    "            y=y,\n",
    "            mode=\"lines\",\n",
    "            line=dict(color=\"green\", width=1),\n",
    "        ),\n",
    "        go.Scatter(\n",
    "            x=[xs[0]],\n",
    "            y=[ys[0]],\n",
    "            mode=\"markers\",\n",
    "            marker=dict(color=\"red\", size=10),\n",
    "        ),\n",
    "    ]\n",
    ")\n",
    "\n",
    "fig.update_layout(\n",
    "    width=1200,\n",
    "    height=800,\n",
    "    xaxis=dict(range=(np.min(x) - 1, np.max(x) + 1), autorange=False, zeroline=False),\n",
    "    yaxis=dict(range=(np.min(y) - 1, np.max(y) + 1), autorange=False, zeroline=False),\n",
    "    title_text=\"Gradient Descent Animation\",\n",
    "    updatemenus=[\n",
    "        dict(\n",
    "            type=\"buttons\",\n",
    "            buttons=[\n",
    "                dict(\n",
    "                    args=[\n",
    "                        None,\n",
    "                        {\n",
    "                            \"frame\": {\"duration\": 500, \"redraw\": False},\n",
    "                            \"fromcurrent\": True,\n",
    "                            \"transition\": {\"duration\": 1000},\n",
    "                        },\n",
    "                    ],\n",
    "                    label=\"Play\",\n",
    "                    method=\"animate\",\n",
    "                )\n",
    "            ],\n",
    "        )\n",
    "    ],\n",
    ")\n",
    "\n",
    "fig.update(\n",
    "    frames=[\n",
    "        go.Frame(data=[go.Scatter(x=[xs[k]], y=[ys[k]])], traces=[1])\n",
    "        for k in range(len(ys))\n",
    "    ]\n",
    ")\n",
    "\n",
    "fig.show()"
   ]
  },
  {
   "cell_type": "markdown",
   "metadata": {},
   "source": [
    "# Gradientenverfahren 2D"
   ]
  },
  {
   "cell_type": "code",
   "execution_count": 22,
   "metadata": {},
   "outputs": [],
   "source": [
    "# Funktion definieren\n",
    "def fn2d(x, y) -> float:\n",
    "    return np.sqrt(np.pow(x, 2) + np.pow(y, 2))\n",
    "\n",
    "\n",
    "# Ableitung\n",
    "def fn2d_prime(x: float, y: float) -> np.ndarray:  # gibt 2D Array zurück\n",
    "    partial_x = 2 * x  # leite f nach x ab, lass y konstant\n",
    "    partial_y = 2 * y  # leite f nach y ab, lass x konstant\n",
    "    return np.array([[partial_x], [partial_y]], ndmin=2)\n",
    "\n",
    "\n",
    "# Lokales Minimum finden mit Gradientenverfahren\n",
    "x_start = 2.0  # Startpunkt\n",
    "y_start = 2.0\n",
    "lr = 1e-1  # Schrittgröße\n",
    "num_rep_2d = 10\n",
    "grad_xy_diff = fn2d_prime(x_start, y_start)\n",
    "change_2d = True\n",
    "xs = [x_start]\n",
    "ys = [y_start]\n",
    "zs = [fn2d(x_start, y_start)]\n",
    "\n",
    "\n",
    "while change_2d == True:\n",
    "    for i in range(num_rep_2d):\n",
    "        if np.absolute(np.mean(grad_xy_diff)) / (i + 1) >= 1e-3 and i == 0:\n",
    "            grad_xy = fn2d_prime(x_start, y_start)\n",
    "            x_start = x_start - lr * grad_xy[0, 0]\n",
    "            y_start = y_start - lr * grad_xy[1, 0]\n",
    "            zs.append(fn2d(x_start, y_start))\n",
    "            xs.append(x_start)\n",
    "            ys.append(y_start)\n",
    "        elif np.absolute(np.mean(grad_xy_diff)) / (i + 1) >= 1e-3:\n",
    "            grad_xy = fn2d_prime(x_start, y_start)\n",
    "            grad_xy_diff[0, 0] += grad_xy[0, 0]\n",
    "            grad_xy_diff[1, 0] += grad_xy[1, 0]\n",
    "            x_start = x_start - lr * grad_xy[0, 0]\n",
    "            y_start = y_start - lr * grad_xy[1, 0]\n",
    "            zs.append(fn2d(x_start, y_start))\n",
    "            xs.append(x_start)\n",
    "            ys.append(y_start)\n",
    "        else:\n",
    "            change_2d = False\n",
    "            zs.append(fn2d(x_start, y_start))\n",
    "            xs.append(x_start)\n",
    "            ys.append(y_start)\n",
    "    grad_xy_diff[0, 0], grad_xy_diff[1, 0] = grad_xy[0, 0], grad_xy[1, 0]\n",
    "    # print(x_start, grad_xy[0, 0], y_start, grad_xy[1, 0])"
   ]
  },
  {
   "cell_type": "markdown",
   "metadata": {},
   "source": [
    "# Plot the Surface"
   ]
  },
  {
   "cell_type": "code",
   "execution_count": null,
   "metadata": {},
   "outputs": [],
   "source": [
    "import plotly.io as pio\n",
    "\n",
    "pio.renderers.default = \"notebook\"\n",
    "\n",
    "xy_min = -2\n",
    "xy_max = 2\n",
    "r = np.arange(xy_min, xy_max, 0.01)\n",
    "x, y = np.meshgrid(r, r)\n",
    "\n",
    "vals = fn2d(x, y)\n",
    "\n",
    "fig2 = go.Figure(data=[go.Surface(z=vals, x=x, y=y)])\n",
    "\n",
    "fig2.update_layout(title=\"Surface Plot\", autosize=True)\n",
    "\n",
    "\n",
    "fig2.show()"
   ]
  },
  {
   "cell_type": "markdown",
   "metadata": {},
   "source": [
    "# Plot the process of Gradient Descent"
   ]
  },
  {
   "cell_type": "code",
   "execution_count": null,
   "metadata": {},
   "outputs": [],
   "source": [
    "pio.renderers.default = \"notebook\"\n",
    "\n",
    "r = np.arange(xy_min, xy_max, 0.01)\n",
    "x, y = np.meshgrid(r, r)\n",
    "\n",
    "vals = fn2d(x, y)\n",
    "\n",
    "fig = go.Figure(\n",
    "    data=[\n",
    "        go.Surface(z=vals, x=x, y=y),\n",
    "        go.Scatter3d(\n",
    "            x=[xs[0]],\n",
    "            y=[ys[0]],\n",
    "            z=[zs[0]],\n",
    "            mode=\"markers\",\n",
    "            marker=dict(color=\"cyan\", size=5),\n",
    "        ),\n",
    "    ]\n",
    ")\n",
    "\n",
    "fig.update_layout(\n",
    "    scene=dict(\n",
    "        xaxis=dict(\n",
    "            range=(np.min(x) - 2, np.max(x) + 2), autorange=False, zeroline=False\n",
    "        ),\n",
    "        yaxis=dict(\n",
    "            range=(np.min(y) - 2, np.max(y) + 2), autorange=False, zeroline=False\n",
    "        ),\n",
    "        zaxis=dict(range=(np.min(zs), np.max(zs) + 2), autorange=False, zeroline=False),\n",
    "    ),\n",
    "    title_text=\"Gradient Descent Animation\",\n",
    "    updatemenus=[\n",
    "        dict(\n",
    "            type=\"buttons\",\n",
    "            buttons=[\n",
    "                dict(\n",
    "                    args=[\n",
    "                        None,\n",
    "                        {\n",
    "                            \"frame\": {\"duration\": 500, \"redraw\": True},\n",
    "                            \"fromcurrent\": True,\n",
    "                            \"transition\": {\"duration\": 1000},\n",
    "                        },\n",
    "                    ],\n",
    "                    label=\"Play\",\n",
    "                    method=\"animate\",\n",
    "                )\n",
    "            ],\n",
    "        )\n",
    "    ],\n",
    ")\n",
    "\n",
    "fig.update(\n",
    "    frames=[\n",
    "        go.Frame(data=[go.Scatter3d(x=[xs[k]], y=[ys[k]], z=[zs[k]])], traces=[1])\n",
    "        for k in range(len(zs))\n",
    "    ]\n",
    ")\n",
    "\n",
    "fig.show()"
   ]
  }
 ],
 "metadata": {
  "kernelspec": {
   "display_name": "diy-mnist-nn-ZXZBkNkJ-py3.10",
   "language": "python",
   "name": "python3"
  },
  "language_info": {
   "codemirror_mode": {
    "name": "ipython",
    "version": 3
   },
   "file_extension": ".py",
   "mimetype": "text/x-python",
   "name": "python",
   "nbconvert_exporter": "python",
   "pygments_lexer": "ipython3",
   "version": "3.10.12"
  }
 },
 "nbformat": 4,
 "nbformat_minor": 2
}
