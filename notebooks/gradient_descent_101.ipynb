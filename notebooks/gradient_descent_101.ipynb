{
 "cells": [
  {
   "cell_type": "markdown",
   "metadata": {},
   "source": [
    "# Gradientenverfahren 1D"
   ]
  },
  {
   "cell_type": "code",
   "execution_count": null,
   "metadata": {},
   "outputs": [],
   "source": [
    "# Funktion definieren\n",
    "def fn1d(x) -> float:\n",
    "    return x**5 - 3*x**3 + x**2 + 2\n",
    "\n",
    "# TODO: Visualize fn in [-2, 2]\n",
    "\n",
    "# Händisch Ableitung bestimmen\n",
    "def fn1d_prime(x) -> float:\n",
    "    # TODO:\n",
    "    pass\n",
    "\n",
    "# Lokales Minimum finden mit Gradientenverfahren\n",
    "x = 2  # Startpunkt\n",
    "lr = 0.1  # Schrittgröße (aka. Learning Rate)\n",
    "while True:\n",
    "    grad = fn1d_prime(x)\n",
    "    x = x - lr * grad  # optimize\n",
    "\n",
    "    # Plot fn mit x\n",
    "    print(fn1d(x))\n",
    "\n",
    "    # TODO: Abbruchbedingung"
   ]
  },
  {
   "cell_type": "markdown",
   "metadata": {},
   "source": [
    "# Gradientenverfahren 2D"
   ]
  },
  {
   "cell_type": "code",
   "execution_count": null,
   "metadata": {},
   "outputs": [],
   "source": [
    "import numpy as np\n",
    "\n",
    "# Funktion definieren\n",
    "def fn2d(x, y) -> float:\n",
    "    np.sqrt(x**2 + y**2)\n",
    "\n",
    "# Ableitung\n",
    "def fn2d_prime(x, y) -> np.ndarray:  # gibt 2D Array zurück\n",
    "    partial_x = 0.0 # leite f nach x ab, lass y konstant\n",
    "    partial_y = 0.0 # leite f nach y ab, lass x konstant\n",
    "    return partial_x, partial_y\n",
    "\n",
    "# ... siehe oben"
   ]
  }
 ],
 "metadata": {
  "kernelspec": {
   "display_name": "Python 3",
   "language": "python",
   "name": "python3"
  },
  "language_info": {
   "name": "python",
   "version": "3.10.13"
  }
 },
 "nbformat": 4,
 "nbformat_minor": 2
}
