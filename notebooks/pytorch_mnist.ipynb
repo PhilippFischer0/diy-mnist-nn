{
 "cells": [
  {
   "cell_type": "code",
   "execution_count": null,
   "metadata": {},
   "outputs": [],
   "source": [
    "import sys, os\n",
    "\n",
    "sys.path.append(os.path.abspath(os.path.join(os.getcwd(), os.pardir)))\n",
    "import torch\n",
    "import torch.nn as nn\n",
    "import torch.nn.functional as F\n",
    "from src import *"
   ]
  },
  {
   "cell_type": "markdown",
   "metadata": {},
   "source": [
    "# Setup"
   ]
  },
  {
   "cell_type": "code",
   "execution_count": null,
   "metadata": {},
   "outputs": [],
   "source": [
    "# load MNIST data\n",
    "train_img_path = \"../data/train_img.idx\"\n",
    "train_label_path = \"../data/train_label.idx\"\n",
    "test_img_path = \"../data/test_img.idx\"\n",
    "test_label_path = \"../data/test_label.idx\"\n",
    "\n",
    "train_samples, train_labels, test_samples, test_labels = normalize_mnist_data(\n",
    "    train_img_path, train_label_path, test_img_path, test_label_path\n",
    ")\n",
    "\n",
    "# use tensors\n",
    "train_samples = torch.from_numpy(train_samples).float()\n",
    "train_labels = torch.from_numpy(train_labels)\n",
    "test_samples = torch.from_numpy(test_samples).float()\n",
    "test_labels = torch.from_numpy(test_labels)\n",
    "\n",
    "# hyperparameters\n",
    "epochs = 100\n",
    "batch_size = 64\n",
    "lr = 1e-4\n",
    "nin = 784\n",
    "nhidden = 100\n",
    "nout = 10\n",
    "\n",
    "# initialize model and optimizer\n",
    "m = nn.Sequential(\n",
    "    nn.Linear(nin, nhidden),\n",
    "    nn.ReLU(),\n",
    "    nn.Linear(nhidden, nhidden),\n",
    "    nn.ReLU(),\n",
    "    nn.Linear(nhidden, nhidden),\n",
    "    nn.ReLU(),\n",
    "    nn.Linear(nhidden, nhidden),\n",
    "    nn.ReLU(),\n",
    "    nn.Linear(nhidden, nout),\n",
    "    nn.Softmax(),\n",
    ")\n",
    "optimizer = torch.optim.AdamW(m.parameters(), lr=lr)\n",
    "\n",
    "\n",
    "def loss_fn(y, y_hat):\n",
    "    return F.cross_entropy(y_hat, y)"
   ]
  },
  {
   "cell_type": "markdown",
   "metadata": {},
   "source": [
    "# Train Loop"
   ]
  },
  {
   "cell_type": "code",
   "execution_count": null,
   "metadata": {},
   "outputs": [],
   "source": [
    "# train model\n",
    "\n",
    "for epoch in range(epochs):\n",
    "    epoch_loss = 0.0\n",
    "    for i in range(0, len(train_samples), batch_size):\n",
    "        optimizer.zero_grad()\n",
    "        y_hat = m(train_samples[i : i + batch_size].flatten(1))\n",
    "        loss = loss_fn(train_labels[i : i + batch_size].flatten(), y_hat)\n",
    "        loss.backward()\n",
    "        optimizer.step()\n",
    "        epoch_loss += loss.item()\n",
    "    print(f\"epoch: {epoch}, loss: {epoch_loss}\")"
   ]
  },
  {
   "cell_type": "markdown",
   "metadata": {},
   "source": [
    "# Accuracy Validation"
   ]
  },
  {
   "cell_type": "code",
   "execution_count": null,
   "metadata": {},
   "outputs": [],
   "source": [
    "# test model\n",
    "correct = 0\n",
    "for i in range(len(test_samples)):\n",
    "    y_hat = m(test_samples[i].flatten())\n",
    "    correct += (torch.argmax(y_hat, dim=0) == test_labels[i]).item()\n",
    "\n",
    "print(f\"accuracy: {correct / len(test_samples) * 100}%\")"
   ]
  },
  {
   "cell_type": "code",
   "execution_count": null,
   "metadata": {},
   "outputs": [],
   "source": [
    "plot_image(test_samples[1])"
   ]
  },
  {
   "cell_type": "code",
   "execution_count": null,
   "metadata": {},
   "outputs": [],
   "source": [
    "torch.argmax(m(test_samples[1].flatten()))"
   ]
  }
 ],
 "metadata": {
  "kernelspec": {
   "display_name": "diy-mnist-nn-ZXZBkNkJ-py3.10",
   "language": "python",
   "name": "python3"
  },
  "language_info": {
   "codemirror_mode": {
    "name": "ipython",
    "version": 3
   },
   "file_extension": ".py",
   "mimetype": "text/x-python",
   "name": "python",
   "nbconvert_exporter": "python",
   "pygments_lexer": "ipython3",
   "version": "3.10.12"
  }
 },
 "nbformat": 4,
 "nbformat_minor": 2
}
