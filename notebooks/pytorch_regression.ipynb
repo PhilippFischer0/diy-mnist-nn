{
 "cells": [
  {
   "cell_type": "code",
   "execution_count": null,
   "metadata": {},
   "outputs": [],
   "source": [
    "import torch\n",
    "import torch.nn.functional as F\n",
    "import plotly.express as px\n",
    "import pandas as pd"
   ]
  },
  {
   "cell_type": "markdown",
   "metadata": {},
   "source": [
    "# Linear Reagressiom"
   ]
  },
  {
   "cell_type": "markdown",
   "metadata": {},
   "source": [
    "## Setup"
   ]
  },
  {
   "cell_type": "code",
   "execution_count": null,
   "metadata": {},
   "outputs": [],
   "source": [
    "torch.random.manual_seed(42)\n",
    "\n",
    "# generate data with noise\n",
    "x = torch.linspace(-10, 10, 200)\n",
    "\n",
    "\n",
    "def f(x: torch.Tensor) -> torch.Tensor:\n",
    "    return -2 * x + 3\n",
    "\n",
    "\n",
    "y_noise = f(x) + torch.randn_like(x) * 2\n",
    "\n",
    "\n",
    "def f_param(x: torch.Tensor, m: torch.Tensor, c: torch.Tensor) -> torch.Tensor:\n",
    "    return m * x + c\n",
    "\n",
    "\n",
    "# randomly initialize the slope and intercept\n",
    "slope = torch.scalar_tensor((torch.randn(1).item() * -2), requires_grad=True)\n",
    "intercept = torch.scalar_tensor((torch.randn(1).item() * 2), requires_grad=True)\n",
    "\n",
    "\n",
    "# define the loss function\n",
    "def lin_loss(\n",
    "    x: torch.Tensor, y: torch.Tensor, m: torch.Tensor, c: torch.Tensor\n",
    ") -> torch.Tensor:\n",
    "    return F.mse_loss(f_param(x, m, c), y)\n",
    "\n",
    "\n",
    "# define the optimizer\n",
    "optimizer = torch.optim.Adam((slope, intercept), lr=0.01)\n",
    "\n",
    "print(slope, intercept)"
   ]
  },
  {
   "cell_type": "markdown",
   "metadata": {},
   "source": [
    "## Training Loop"
   ]
  },
  {
   "cell_type": "code",
   "execution_count": null,
   "metadata": {},
   "outputs": [],
   "source": [
    "# hyperparameters\n",
    "epochs = 1000\n",
    "\n",
    "# plot parameters\n",
    "losses = []\n",
    "ys = []\n",
    "\n",
    "# training loop\n",
    "for epoch in range(epochs):\n",
    "    optimizer.zero_grad()\n",
    "    loss = lin_loss(x, y_noise, slope, intercept)\n",
    "    loss.backward()\n",
    "    if epoch % 10 == 0:\n",
    "        losses.append(loss.item())\n",
    "        ys.append(f_param(x, slope, intercept))\n",
    "    optimizer.step()\n",
    "    if epoch % 100 == 0:\n",
    "        print(f\"Epoch {epoch+1}/{epochs}, Loss: {loss.item()}\")"
   ]
  },
  {
   "cell_type": "markdown",
   "metadata": {},
   "source": [
    "## Plots"
   ]
  },
  {
   "cell_type": "code",
   "execution_count": null,
   "metadata": {},
   "outputs": [],
   "source": [
    "data = []\n",
    "\n",
    "for i in range(len(ys)):\n",
    "    for j in range(len(x)):\n",
    "        data.append(\n",
    "            {\"x\": x[j].detach().numpy(), \"y\": ys[i][j].detach().numpy(), \"frame\": i + 1}\n",
    "        )\n",
    "df = pd.DataFrame(data)\n",
    "\n",
    "fig = px.line(df, x=\"x\", y=\"y\", animation_frame=\"frame\", title=\"Linear Regression\")\n",
    "fig.add_trace(px.scatter(x=x.detach().numpy(), y=y_noise.detach().numpy()).data[0])\n",
    "fig.update_traces(marker=dict(color=\"red\"))\n",
    "fig.show()"
   ]
  },
  {
   "cell_type": "code",
   "execution_count": null,
   "metadata": {},
   "outputs": [],
   "source": [
    "fig = px.line(x=range(len(losses)), y=losses, title=\"Loss every 10 epochs\")\n",
    "fig.update_xaxes(title=\"Epochs * 10\")\n",
    "fig.update_yaxes(title=\"Loss\")"
   ]
  },
  {
   "cell_type": "markdown",
   "metadata": {},
   "source": [
    "# Quadratic Regression"
   ]
  },
  {
   "cell_type": "markdown",
   "metadata": {},
   "source": [
    "## Setup"
   ]
  },
  {
   "cell_type": "code",
   "execution_count": null,
   "metadata": {},
   "outputs": [],
   "source": [
    "torch.random.manual_seed(42)\n",
    "\n",
    "# generate data with noise\n",
    "x = torch.linspace(-10, 10, 200)\n",
    "\n",
    "\n",
    "def f(x: torch.Tensor) -> torch.Tensor:\n",
    "    return -2.0 * x**2 + 3 * x + 1\n",
    "\n",
    "\n",
    "y_noise = f(x) + torch.randn_like(x) * 10\n",
    "\n",
    "\n",
    "def f_param(\n",
    "    x: torch.Tensor, a: torch.Tensor, b: torch.Tensor, c: torch.Tensor\n",
    ") -> torch.Tensor:\n",
    "    return a * x**2 + b * x + c\n",
    "\n",
    "\n",
    "a = torch.scalar_tensor((torch.randn(1).item()) * -1, requires_grad=True)\n",
    "b = torch.scalar_tensor((torch.randn(1).item()), requires_grad=True)\n",
    "c = torch.scalar_tensor((torch.randn(1).item()), requires_grad=True)\n",
    "\n",
    "\n",
    "def quad_loss(\n",
    "    x: torch.Tensor, y: torch.Tensor, a: torch.Tensor, b: torch.Tensor, c: torch.Tensor\n",
    ") -> torch.Tensor:\n",
    "    return F.mse_loss(f_param(x, a, b, c), y)\n",
    "\n",
    "\n",
    "optimizer = torch.optim.Adam((a, b, c), lr=0.01)\n",
    "\n",
    "print(a, b, c)"
   ]
  },
  {
   "cell_type": "markdown",
   "metadata": {},
   "source": [
    "## Training Loop"
   ]
  },
  {
   "cell_type": "code",
   "execution_count": null,
   "metadata": {},
   "outputs": [],
   "source": [
    "# hyperparameters\n",
    "epochs = 1000\n",
    "\n",
    "# plot parameters\n",
    "losses = []\n",
    "ys = []\n",
    "\n",
    "# training loop\n",
    "for epoch in range(epochs):\n",
    "    optimizer.zero_grad()\n",
    "    loss = quad_loss(x, y_noise, a, b, c)\n",
    "    loss.backward()\n",
    "    if epoch % 10 == 0:\n",
    "        losses.append(loss.item())\n",
    "        ys.append(f_param(x, a, b, c))\n",
    "    optimizer.step()\n",
    "    if epoch % 100 == 0:\n",
    "        print(f\"Epoch {epoch+1}/{epochs}, Loss: {loss.item()}\")"
   ]
  },
  {
   "cell_type": "markdown",
   "metadata": {},
   "source": [
    "## Plots"
   ]
  },
  {
   "cell_type": "code",
   "execution_count": null,
   "metadata": {},
   "outputs": [],
   "source": [
    "data = []\n",
    "\n",
    "for i in range(len(ys)):\n",
    "    for j in range(len(x)):\n",
    "        data.append(\n",
    "            {\"x\": x[j].detach().numpy(), \"y\": ys[i][j].detach().numpy(), \"frame\": i + 1}\n",
    "        )\n",
    "\n",
    "df = pd.DataFrame(data)\n",
    "\n",
    "fig = px.line(df, x=\"x\", y=\"y\", animation_frame=\"frame\", title=\"Quadratic Regression\")\n",
    "fig.add_trace(px.scatter(x=x.detach().numpy(), y=y_noise.detach().numpy()).data[0])\n",
    "fig.update_traces(marker=dict(color=\"red\"))\n",
    "fig.show()"
   ]
  },
  {
   "cell_type": "code",
   "execution_count": null,
   "metadata": {},
   "outputs": [],
   "source": [
    "fig = px.line(x=range(len(losses)), y=losses, title=\"Loss every 10 epochs\")\n",
    "fig.update_xaxes(title=\"Epochs * 10\")\n",
    "fig.update_yaxes(title=\"Loss\")"
   ]
  }
 ],
 "metadata": {
  "kernelspec": {
   "display_name": "diy-mnist-nn-ZXZBkNkJ-py3.10",
   "language": "python",
   "name": "python3"
  },
  "language_info": {
   "codemirror_mode": {
    "name": "ipython",
    "version": 3
   },
   "file_extension": ".py",
   "mimetype": "text/x-python",
   "name": "python",
   "nbconvert_exporter": "python",
   "pygments_lexer": "ipython3",
   "version": "3.10.12"
  }
 },
 "nbformat": 4,
 "nbformat_minor": 2
}
